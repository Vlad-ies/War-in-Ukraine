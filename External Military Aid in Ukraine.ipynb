{
 "cells": [
  {
   "cell_type": "code",
   "execution_count": 46,
   "metadata": {},
   "outputs": [],
   "source": [
    "%matplotlib inline\n",
    "import matplotlib.pyplot as plt\n",
    "import seaborn as sns\n",
    "\n",
    "import pandas as pd\n",
    "import numpy as np\n",
    "\n",
    "#!pip install linearmodels\n",
    "#!pip3 install statsmodels\n",
    "from linearmodels.panel import PanelOLS\n",
    "from statsmodels.api import add_constant\n",
    "\n",
    "\n",
    "import statsmodels.api as sm\n",
    "from statsmodels.stats.diagnostic import acorr_breusch_godfrey\n",
    "\n",
    "import statsmodels.formula.api as smf\n",
    "from statsmodels.stats.diagnostic import het_breuschpagan\n",
    "\n",
    "from linearmodels.panel import RandomEffects\n",
    "\n",
    "import plotly.graph_objects as go\n",
    "\n",
    "np.random.seed(123)\n"
   ]
  },
  {
   "cell_type": "code",
   "execution_count": 2,
   "metadata": {},
   "outputs": [],
   "source": [
    "equ = pd.read_csv(\"..../russia_losses_equipment.csv\")\n",
    "per = pd.read_csv(\"..../russia_losses_personnel.csv\")"
   ]
  },
  {
   "attachments": {},
   "cell_type": "markdown",
   "metadata": {},
   "source": [
    "These are the datasets that describe Equipment Losses & Death Toll & Military Wounded & Prisoner of War of russians in 2022 Ukraine russia War. It is a time-series data from February 24th till nowadays which shows Russian losses as military equipment and as casualties (2 datasets). These datasets can be used perfectly for data manipulation and visualization. Data was taken from  Kaggle: “2022 Russia Ukraine War”( https://www.kaggle.com/datasets/piterfm/2022-ukraine-russian-war)"
   ]
  },
  {
   "attachments": {},
   "cell_type": "markdown",
   "metadata": {},
   "source": [
    "Tracking : \n",
    "* Personnel\n",
    "* Prisoner of War (POW) - - has not been tracked since 2022-04-28\n",
    "* Aircraft\n",
    "* Helicopter\n",
    "* Tank\n",
    "* Armored Personnel Carrier (APC)\n",
    "* Multiple Rocket Launcher (MRL)\n",
    "* Field Artillery\n",
    "* Military Auto - has not been tracked since 2022-05-01; joined with Fuel Tank into Vehicles and Fuel Tanks\n",
    "* Fuel Tank - has not been tracked since 2022-05-01; joined with Military Auto into Vehicles and Fuel Tanks\n",
    "* Anti-aircraft warfare\n",
    "* Drone - UAV+RPA\n",
    "* Naval Ship - Warships, Boats\n",
    "* Anti-aircraft Warfare\n",
    "* Mobile SRBM System - has not been tracked since 2022-05-01; joined into Cruise Missiles\n",
    "* Vehicles and Fuel Tanks - appear since 2022-05-01 as a sum of Fuel Tank and Military Auto\n",
    "* Cruise Missiles - appear since 2022-05-01\n",
    "* Direction of Greatest Losses - appear since 2022-04-25 "
   ]
  },
  {
   "attachments": {},
   "cell_type": "markdown",
   "metadata": {},
   "source": [
    "# Checking data and data manipulation"
   ]
  },
  {
   "cell_type": "code",
   "execution_count": 3,
   "metadata": {},
   "outputs": [
    {
     "data": {
      "text/html": [
       "<div>\n",
       "<style scoped>\n",
       "    .dataframe tbody tr th:only-of-type {\n",
       "        vertical-align: middle;\n",
       "    }\n",
       "\n",
       "    .dataframe tbody tr th {\n",
       "        vertical-align: top;\n",
       "    }\n",
       "\n",
       "    .dataframe thead th {\n",
       "        text-align: right;\n",
       "    }\n",
       "</style>\n",
       "<table border=\"1\" class=\"dataframe\">\n",
       "  <thead>\n",
       "    <tr style=\"text-align: right;\">\n",
       "      <th></th>\n",
       "      <th>date</th>\n",
       "      <th>day</th>\n",
       "      <th>aircraft</th>\n",
       "      <th>helicopter</th>\n",
       "      <th>tank</th>\n",
       "      <th>APC</th>\n",
       "      <th>field artillery</th>\n",
       "      <th>MRL</th>\n",
       "      <th>military auto</th>\n",
       "      <th>fuel tank</th>\n",
       "      <th>drone</th>\n",
       "      <th>naval ship</th>\n",
       "      <th>anti-aircraft warfare</th>\n",
       "      <th>special equipment</th>\n",
       "      <th>mobile SRBM system</th>\n",
       "      <th>greatest losses direction</th>\n",
       "      <th>vehicles and fuel tanks</th>\n",
       "      <th>cruise missiles</th>\n",
       "    </tr>\n",
       "  </thead>\n",
       "  <tbody>\n",
       "    <tr>\n",
       "      <th>0</th>\n",
       "      <td>2022-02-25</td>\n",
       "      <td>2</td>\n",
       "      <td>10</td>\n",
       "      <td>7</td>\n",
       "      <td>80</td>\n",
       "      <td>516</td>\n",
       "      <td>49</td>\n",
       "      <td>4</td>\n",
       "      <td>100.0</td>\n",
       "      <td>60.0</td>\n",
       "      <td>0</td>\n",
       "      <td>2</td>\n",
       "      <td>0</td>\n",
       "      <td>NaN</td>\n",
       "      <td>NaN</td>\n",
       "      <td>NaN</td>\n",
       "      <td>NaN</td>\n",
       "      <td>NaN</td>\n",
       "    </tr>\n",
       "    <tr>\n",
       "      <th>1</th>\n",
       "      <td>2022-02-26</td>\n",
       "      <td>3</td>\n",
       "      <td>27</td>\n",
       "      <td>26</td>\n",
       "      <td>146</td>\n",
       "      <td>706</td>\n",
       "      <td>49</td>\n",
       "      <td>4</td>\n",
       "      <td>130.0</td>\n",
       "      <td>60.0</td>\n",
       "      <td>2</td>\n",
       "      <td>2</td>\n",
       "      <td>0</td>\n",
       "      <td>NaN</td>\n",
       "      <td>NaN</td>\n",
       "      <td>NaN</td>\n",
       "      <td>NaN</td>\n",
       "      <td>NaN</td>\n",
       "    </tr>\n",
       "    <tr>\n",
       "      <th>2</th>\n",
       "      <td>2022-02-27</td>\n",
       "      <td>4</td>\n",
       "      <td>27</td>\n",
       "      <td>26</td>\n",
       "      <td>150</td>\n",
       "      <td>706</td>\n",
       "      <td>50</td>\n",
       "      <td>4</td>\n",
       "      <td>130.0</td>\n",
       "      <td>60.0</td>\n",
       "      <td>2</td>\n",
       "      <td>2</td>\n",
       "      <td>0</td>\n",
       "      <td>NaN</td>\n",
       "      <td>NaN</td>\n",
       "      <td>NaN</td>\n",
       "      <td>NaN</td>\n",
       "      <td>NaN</td>\n",
       "    </tr>\n",
       "    <tr>\n",
       "      <th>3</th>\n",
       "      <td>2022-02-28</td>\n",
       "      <td>5</td>\n",
       "      <td>29</td>\n",
       "      <td>29</td>\n",
       "      <td>150</td>\n",
       "      <td>816</td>\n",
       "      <td>74</td>\n",
       "      <td>21</td>\n",
       "      <td>291.0</td>\n",
       "      <td>60.0</td>\n",
       "      <td>3</td>\n",
       "      <td>2</td>\n",
       "      <td>5</td>\n",
       "      <td>NaN</td>\n",
       "      <td>NaN</td>\n",
       "      <td>NaN</td>\n",
       "      <td>NaN</td>\n",
       "      <td>NaN</td>\n",
       "    </tr>\n",
       "    <tr>\n",
       "      <th>4</th>\n",
       "      <td>2022-03-01</td>\n",
       "      <td>6</td>\n",
       "      <td>29</td>\n",
       "      <td>29</td>\n",
       "      <td>198</td>\n",
       "      <td>846</td>\n",
       "      <td>77</td>\n",
       "      <td>24</td>\n",
       "      <td>305.0</td>\n",
       "      <td>60.0</td>\n",
       "      <td>3</td>\n",
       "      <td>2</td>\n",
       "      <td>7</td>\n",
       "      <td>NaN</td>\n",
       "      <td>NaN</td>\n",
       "      <td>NaN</td>\n",
       "      <td>NaN</td>\n",
       "      <td>NaN</td>\n",
       "    </tr>\n",
       "  </tbody>\n",
       "</table>\n",
       "</div>"
      ],
      "text/plain": [
       "         date  day  aircraft  helicopter  tank  APC  field artillery  MRL  \\\n",
       "0  2022-02-25    2        10           7    80  516               49    4   \n",
       "1  2022-02-26    3        27          26   146  706               49    4   \n",
       "2  2022-02-27    4        27          26   150  706               50    4   \n",
       "3  2022-02-28    5        29          29   150  816               74   21   \n",
       "4  2022-03-01    6        29          29   198  846               77   24   \n",
       "\n",
       "   military auto  fuel tank  drone  naval ship  anti-aircraft warfare  \\\n",
       "0          100.0       60.0      0           2                      0   \n",
       "1          130.0       60.0      2           2                      0   \n",
       "2          130.0       60.0      2           2                      0   \n",
       "3          291.0       60.0      3           2                      5   \n",
       "4          305.0       60.0      3           2                      7   \n",
       "\n",
       "   special equipment  mobile SRBM system greatest losses direction  \\\n",
       "0                NaN                 NaN                       NaN   \n",
       "1                NaN                 NaN                       NaN   \n",
       "2                NaN                 NaN                       NaN   \n",
       "3                NaN                 NaN                       NaN   \n",
       "4                NaN                 NaN                       NaN   \n",
       "\n",
       "   vehicles and fuel tanks  cruise missiles  \n",
       "0                      NaN              NaN  \n",
       "1                      NaN              NaN  \n",
       "2                      NaN              NaN  \n",
       "3                      NaN              NaN  \n",
       "4                      NaN              NaN  "
      ]
     },
     "execution_count": 3,
     "metadata": {},
     "output_type": "execute_result"
    }
   ],
   "source": [
    "equ.head()"
   ]
  },
  {
   "cell_type": "code",
   "execution_count": 4,
   "metadata": {},
   "outputs": [
    {
     "data": {
      "text/html": [
       "<div>\n",
       "<style scoped>\n",
       "    .dataframe tbody tr th:only-of-type {\n",
       "        vertical-align: middle;\n",
       "    }\n",
       "\n",
       "    .dataframe tbody tr th {\n",
       "        vertical-align: top;\n",
       "    }\n",
       "\n",
       "    .dataframe thead th {\n",
       "        text-align: right;\n",
       "    }\n",
       "</style>\n",
       "<table border=\"1\" class=\"dataframe\">\n",
       "  <thead>\n",
       "    <tr style=\"text-align: right;\">\n",
       "      <th></th>\n",
       "      <th>date</th>\n",
       "      <th>day</th>\n",
       "      <th>personnel</th>\n",
       "      <th>personnel*</th>\n",
       "      <th>POW</th>\n",
       "    </tr>\n",
       "  </thead>\n",
       "  <tbody>\n",
       "    <tr>\n",
       "      <th>0</th>\n",
       "      <td>2022-02-25</td>\n",
       "      <td>2</td>\n",
       "      <td>2800</td>\n",
       "      <td>about</td>\n",
       "      <td>0.0</td>\n",
       "    </tr>\n",
       "    <tr>\n",
       "      <th>1</th>\n",
       "      <td>2022-02-26</td>\n",
       "      <td>3</td>\n",
       "      <td>4300</td>\n",
       "      <td>about</td>\n",
       "      <td>0.0</td>\n",
       "    </tr>\n",
       "    <tr>\n",
       "      <th>2</th>\n",
       "      <td>2022-02-27</td>\n",
       "      <td>4</td>\n",
       "      <td>4500</td>\n",
       "      <td>about</td>\n",
       "      <td>0.0</td>\n",
       "    </tr>\n",
       "    <tr>\n",
       "      <th>3</th>\n",
       "      <td>2022-02-28</td>\n",
       "      <td>5</td>\n",
       "      <td>5300</td>\n",
       "      <td>about</td>\n",
       "      <td>0.0</td>\n",
       "    </tr>\n",
       "    <tr>\n",
       "      <th>4</th>\n",
       "      <td>2022-03-01</td>\n",
       "      <td>6</td>\n",
       "      <td>5710</td>\n",
       "      <td>about</td>\n",
       "      <td>200.0</td>\n",
       "    </tr>\n",
       "  </tbody>\n",
       "</table>\n",
       "</div>"
      ],
      "text/plain": [
       "         date  day  personnel personnel*    POW\n",
       "0  2022-02-25    2       2800      about    0.0\n",
       "1  2022-02-26    3       4300      about    0.0\n",
       "2  2022-02-27    4       4500      about    0.0\n",
       "3  2022-02-28    5       5300      about    0.0\n",
       "4  2022-03-01    6       5710      about  200.0"
      ]
     },
     "execution_count": 4,
     "metadata": {},
     "output_type": "execute_result"
    }
   ],
   "source": [
    "per.head()"
   ]
  },
  {
   "cell_type": "code",
   "execution_count": 5,
   "metadata": {},
   "outputs": [
    {
     "name": "stdout",
     "output_type": "stream",
     "text": [
      "<class 'pandas.core.frame.DataFrame'>\n",
      "RangeIndex: 402 entries, 0 to 401\n",
      "Data columns (total 18 columns):\n",
      " #   Column                     Non-Null Count  Dtype  \n",
      "---  ------                     --------------  -----  \n",
      " 0   date                       402 non-null    object \n",
      " 1   day                        402 non-null    int64  \n",
      " 2   aircraft                   402 non-null    int64  \n",
      " 3   helicopter                 402 non-null    int64  \n",
      " 4   tank                       402 non-null    int64  \n",
      " 5   APC                        402 non-null    int64  \n",
      " 6   field artillery            402 non-null    int64  \n",
      " 7   MRL                        402 non-null    int64  \n",
      " 8   military auto              65 non-null     float64\n",
      " 9   fuel tank                  65 non-null     float64\n",
      " 10  drone                      402 non-null    int64  \n",
      " 11  naval ship                 402 non-null    int64  \n",
      " 12  anti-aircraft warfare      402 non-null    int64  \n",
      " 13  special equipment          383 non-null    float64\n",
      " 14  mobile SRBM system         36 non-null     float64\n",
      " 15  greatest losses direction  203 non-null    object \n",
      " 16  vehicles and fuel tanks    337 non-null    float64\n",
      " 17  cruise missiles            337 non-null    float64\n",
      "dtypes: float64(6), int64(10), object(2)\n",
      "memory usage: 56.7+ KB\n"
     ]
    }
   ],
   "source": [
    "equ.info()"
   ]
  },
  {
   "cell_type": "code",
   "execution_count": 6,
   "metadata": {},
   "outputs": [
    {
     "name": "stdout",
     "output_type": "stream",
     "text": [
      "<class 'pandas.core.frame.DataFrame'>\n",
      "RangeIndex: 402 entries, 0 to 401\n",
      "Data columns (total 5 columns):\n",
      " #   Column      Non-Null Count  Dtype  \n",
      "---  ------      --------------  -----  \n",
      " 0   date        402 non-null    object \n",
      " 1   day         402 non-null    int64  \n",
      " 2   personnel   402 non-null    int64  \n",
      " 3   personnel*  402 non-null    object \n",
      " 4   POW         62 non-null     float64\n",
      "dtypes: float64(1), int64(2), object(2)\n",
      "memory usage: 15.8+ KB\n"
     ]
    }
   ],
   "source": [
    "per.info()"
   ]
  },
  {
   "attachments": {},
   "cell_type": "markdown",
   "metadata": {},
   "source": [
    "#### To better manipulate and visualize data, we change the variable \"date\" in both datasets from object to datetime."
   ]
  },
  {
   "cell_type": "code",
   "execution_count": 7,
   "metadata": {},
   "outputs": [
    {
     "name": "stdout",
     "output_type": "stream",
     "text": [
      "<class 'pandas.core.frame.DataFrame'>\n",
      "RangeIndex: 402 entries, 0 to 401\n",
      "Data columns (total 18 columns):\n",
      " #   Column                     Non-Null Count  Dtype         \n",
      "---  ------                     --------------  -----         \n",
      " 0   date                       402 non-null    datetime64[ns]\n",
      " 1   day                        402 non-null    int64         \n",
      " 2   aircraft                   402 non-null    int64         \n",
      " 3   helicopter                 402 non-null    int64         \n",
      " 4   tank                       402 non-null    int64         \n",
      " 5   APC                        402 non-null    int64         \n",
      " 6   field artillery            402 non-null    int64         \n",
      " 7   MRL                        402 non-null    int64         \n",
      " 8   military auto              65 non-null     float64       \n",
      " 9   fuel tank                  65 non-null     float64       \n",
      " 10  drone                      402 non-null    int64         \n",
      " 11  naval ship                 402 non-null    int64         \n",
      " 12  anti-aircraft warfare      402 non-null    int64         \n",
      " 13  special equipment          383 non-null    float64       \n",
      " 14  mobile SRBM system         36 non-null     float64       \n",
      " 15  greatest losses direction  203 non-null    object        \n",
      " 16  vehicles and fuel tanks    337 non-null    float64       \n",
      " 17  cruise missiles            337 non-null    float64       \n",
      "dtypes: datetime64[ns](1), float64(6), int64(10), object(1)\n",
      "memory usage: 56.7+ KB\n"
     ]
    }
   ],
   "source": [
    "equ[\"date\"] = pd.to_datetime(equ[\"date\"])\n",
    "equ.info()"
   ]
  },
  {
   "cell_type": "code",
   "execution_count": 8,
   "metadata": {},
   "outputs": [
    {
     "name": "stdout",
     "output_type": "stream",
     "text": [
      "<class 'pandas.core.frame.DataFrame'>\n",
      "RangeIndex: 402 entries, 0 to 401\n",
      "Data columns (total 5 columns):\n",
      " #   Column      Non-Null Count  Dtype         \n",
      "---  ------      --------------  -----         \n",
      " 0   date        402 non-null    datetime64[ns]\n",
      " 1   day         402 non-null    int64         \n",
      " 2   personnel   402 non-null    int64         \n",
      " 3   personnel*  402 non-null    object        \n",
      " 4   POW         62 non-null     float64       \n",
      "dtypes: datetime64[ns](1), float64(1), int64(2), object(1)\n",
      "memory usage: 15.8+ KB\n"
     ]
    }
   ],
   "source": [
    "per[\"date\"] = pd.to_datetime(per[\"date\"])\n",
    "per.info()"
   ]
  },
  {
   "attachments": {},
   "cell_type": "markdown",
   "metadata": {},
   "source": [
    "#### Cheking missing values."
   ]
  },
  {
   "cell_type": "code",
   "execution_count": 9,
   "metadata": {},
   "outputs": [
    {
     "data": {
      "text/plain": [
       "date                           0\n",
       "day                            0\n",
       "aircraft                       0\n",
       "helicopter                     0\n",
       "tank                           0\n",
       "APC                            0\n",
       "field artillery                0\n",
       "MRL                            0\n",
       "military auto                337\n",
       "fuel tank                    337\n",
       "drone                          0\n",
       "naval ship                     0\n",
       "anti-aircraft warfare          0\n",
       "special equipment             19\n",
       "mobile SRBM system           366\n",
       "greatest losses direction    199\n",
       "vehicles and fuel tanks       65\n",
       "cruise missiles               65\n",
       "dtype: int64"
      ]
     },
     "execution_count": 9,
     "metadata": {},
     "output_type": "execute_result"
    }
   ],
   "source": [
    "equ.isna().sum()"
   ]
  },
  {
   "cell_type": "code",
   "execution_count": 10,
   "metadata": {},
   "outputs": [
    {
     "data": {
      "image/png": "[encoded data removed]",
      "text/plain": [
       "<Figure size 432x288 with 1 Axes>"
      ]
     },
     "metadata": {
      "needs_background": "light"
     },
     "output_type": "display_data"
    }
   ],
   "source": [
    "equ.isna().sum().plot(kind = \"bar\")\n",
    "plt.show()"
   ]
  },
  {
   "cell_type": "code",
   "execution_count": 11,
   "metadata": {},
   "outputs": [
    {
     "data": {
      "text/plain": [
       "date            0\n",
       "day             0\n",
       "personnel       0\n",
       "personnel*      0\n",
       "POW           340\n",
       "dtype: int64"
      ]
     },
     "execution_count": 11,
     "metadata": {},
     "output_type": "execute_result"
    }
   ],
   "source": [
    "per.isna().sum()"
   ]
  },
  {
   "attachments": {},
   "cell_type": "markdown",
   "metadata": {},
   "source": [
    "#### In a dataset \"personnel\" we can delete the varible POW (Prisoner of War) as has not been tracked since 2022-04-28 and in a dataset \"equipment\" we can drop missing values (5 % or less of total value). "
   ]
  },
  {
   "cell_type": "code",
   "execution_count": 12,
   "metadata": {},
   "outputs": [],
   "source": [
    "per.drop('POW',axis=1,inplace=True)"
   ]
  },
  {
   "cell_type": "code",
   "execution_count": 13,
   "metadata": {},
   "outputs": [
    {
     "data": {
      "text/html": [
       "<div>\n",
       "<style scoped>\n",
       "    .dataframe tbody tr th:only-of-type {\n",
       "        vertical-align: middle;\n",
       "    }\n",
       "\n",
       "    .dataframe tbody tr th {\n",
       "        vertical-align: top;\n",
       "    }\n",
       "\n",
       "    .dataframe thead th {\n",
       "        text-align: right;\n",
       "    }\n",
       "</style>\n",
       "<table border=\"1\" class=\"dataframe\">\n",
       "  <thead>\n",
       "    <tr style=\"text-align: right;\">\n",
       "      <th></th>\n",
       "      <th>date</th>\n",
       "      <th>day</th>\n",
       "      <th>personnel</th>\n",
       "      <th>personnel*</th>\n",
       "    </tr>\n",
       "  </thead>\n",
       "  <tbody>\n",
       "    <tr>\n",
       "      <th>0</th>\n",
       "      <td>2022-02-25</td>\n",
       "      <td>2</td>\n",
       "      <td>2800</td>\n",
       "      <td>about</td>\n",
       "    </tr>\n",
       "    <tr>\n",
       "      <th>1</th>\n",
       "      <td>2022-02-26</td>\n",
       "      <td>3</td>\n",
       "      <td>4300</td>\n",
       "      <td>about</td>\n",
       "    </tr>\n",
       "    <tr>\n",
       "      <th>2</th>\n",
       "      <td>2022-02-27</td>\n",
       "      <td>4</td>\n",
       "      <td>4500</td>\n",
       "      <td>about</td>\n",
       "    </tr>\n",
       "    <tr>\n",
       "      <th>3</th>\n",
       "      <td>2022-02-28</td>\n",
       "      <td>5</td>\n",
       "      <td>5300</td>\n",
       "      <td>about</td>\n",
       "    </tr>\n",
       "    <tr>\n",
       "      <th>4</th>\n",
       "      <td>2022-03-01</td>\n",
       "      <td>6</td>\n",
       "      <td>5710</td>\n",
       "      <td>about</td>\n",
       "    </tr>\n",
       "    <tr>\n",
       "      <th>...</th>\n",
       "      <td>...</td>\n",
       "      <td>...</td>\n",
       "      <td>...</td>\n",
       "      <td>...</td>\n",
       "    </tr>\n",
       "    <tr>\n",
       "      <th>397</th>\n",
       "      <td>2023-03-29</td>\n",
       "      <td>399</td>\n",
       "      <td>172340</td>\n",
       "      <td>about</td>\n",
       "    </tr>\n",
       "    <tr>\n",
       "      <th>398</th>\n",
       "      <td>2023-03-30</td>\n",
       "      <td>400</td>\n",
       "      <td>172900</td>\n",
       "      <td>about</td>\n",
       "    </tr>\n",
       "    <tr>\n",
       "      <th>399</th>\n",
       "      <td>2023-03-31</td>\n",
       "      <td>401</td>\n",
       "      <td>173360</td>\n",
       "      <td>about</td>\n",
       "    </tr>\n",
       "    <tr>\n",
       "      <th>400</th>\n",
       "      <td>2023-04-01</td>\n",
       "      <td>402</td>\n",
       "      <td>173990</td>\n",
       "      <td>about</td>\n",
       "    </tr>\n",
       "    <tr>\n",
       "      <th>401</th>\n",
       "      <td>2023-04-02</td>\n",
       "      <td>403</td>\n",
       "      <td>174550</td>\n",
       "      <td>about</td>\n",
       "    </tr>\n",
       "  </tbody>\n",
       "</table>\n",
       "<p>402 rows × 4 columns</p>\n",
       "</div>"
      ],
      "text/plain": [
       "          date  day  personnel personnel*\n",
       "0   2022-02-25    2       2800      about\n",
       "1   2022-02-26    3       4300      about\n",
       "2   2022-02-27    4       4500      about\n",
       "3   2022-02-28    5       5300      about\n",
       "4   2022-03-01    6       5710      about\n",
       "..         ...  ...        ...        ...\n",
       "397 2023-03-29  399     172340      about\n",
       "398 2023-03-30  400     172900      about\n",
       "399 2023-03-31  401     173360      about\n",
       "400 2023-04-01  402     173990      about\n",
       "401 2023-04-02  403     174550      about\n",
       "\n",
       "[402 rows x 4 columns]"
      ]
     },
     "execution_count": 13,
     "metadata": {},
     "output_type": "execute_result"
    }
   ],
   "source": [
    "per"
   ]
  },
  {
   "cell_type": "code",
   "execution_count": 14,
   "metadata": {},
   "outputs": [
    {
     "name": "stdout",
     "output_type": "stream",
     "text": [
      "Index(['date', 'day', 'aircraft', 'helicopter', 'tank', 'APC',\n",
      "       'field artillery', 'MRL', 'drone', 'naval ship',\n",
      "       'anti-aircraft warfare', 'special equipment'],\n",
      "      dtype='object')\n"
     ]
    }
   ],
   "source": [
    "threshold = len(equ) * 0.05\n",
    "cells_to_drop = equ.columns[equ.isna().sum() <= threshold]\n",
    "print(cells_to_drop)"
   ]
  },
  {
   "cell_type": "code",
   "execution_count": 15,
   "metadata": {},
   "outputs": [],
   "source": [
    "equ.dropna(subset = cells_to_drop, inplace = True)"
   ]
  },
  {
   "cell_type": "code",
   "execution_count": 16,
   "metadata": {},
   "outputs": [
    {
     "data": {
      "text/plain": [
       "date                           0\n",
       "day                            0\n",
       "aircraft                       0\n",
       "helicopter                     0\n",
       "tank                           0\n",
       "APC                            0\n",
       "field artillery                0\n",
       "MRL                            0\n",
       "military auto                337\n",
       "fuel tank                    337\n",
       "drone                          0\n",
       "naval ship                     0\n",
       "anti-aircraft warfare          0\n",
       "special equipment              0\n",
       "mobile SRBM system           347\n",
       "greatest losses direction    180\n",
       "vehicles and fuel tanks       46\n",
       "cruise missiles               46\n",
       "dtype: int64"
      ]
     },
     "execution_count": 16,
     "metadata": {},
     "output_type": "execute_result"
    }
   ],
   "source": [
    "equ.isnull().sum() "
   ]
  },
  {
   "cell_type": "code",
   "execution_count": 17,
   "metadata": {},
   "outputs": [],
   "source": [
    " # equ.fillna(method = \"ffill\")  trying not dropping but replace by last valid observation"
   ]
  },
  {
   "attachments": {},
   "cell_type": "markdown",
   "metadata": {},
   "source": [
    "#### As a result, we dropped a column \"POW\" and do not have missing values in a varible \"special equipment\" and get less missing values in 4 other columns."
   ]
  },
  {
   "cell_type": "code",
   "execution_count": 18,
   "metadata": {},
   "outputs": [
    {
     "data": {
      "text/html": [
       "<div>\n",
       "<style scoped>\n",
       "    .dataframe tbody tr th:only-of-type {\n",
       "        vertical-align: middle;\n",
       "    }\n",
       "\n",
       "    .dataframe tbody tr th {\n",
       "        vertical-align: top;\n",
       "    }\n",
       "\n",
       "    .dataframe thead th {\n",
       "        text-align: right;\n",
       "    }\n",
       "</style>\n",
       "<table border=\"1\" class=\"dataframe\">\n",
       "  <thead>\n",
       "    <tr style=\"text-align: right;\">\n",
       "      <th></th>\n",
       "      <th>day</th>\n",
       "      <th>aircraft</th>\n",
       "      <th>helicopter</th>\n",
       "      <th>tank</th>\n",
       "      <th>APC</th>\n",
       "      <th>field artillery</th>\n",
       "      <th>MRL</th>\n",
       "      <th>military auto</th>\n",
       "      <th>fuel tank</th>\n",
       "      <th>drone</th>\n",
       "      <th>naval ship</th>\n",
       "      <th>anti-aircraft warfare</th>\n",
       "      <th>special equipment</th>\n",
       "      <th>mobile SRBM system</th>\n",
       "      <th>vehicles and fuel tanks</th>\n",
       "      <th>cruise missiles</th>\n",
       "    </tr>\n",
       "  </thead>\n",
       "  <tbody>\n",
       "    <tr>\n",
       "      <th>count</th>\n",
       "      <td>383.00000</td>\n",
       "      <td>383.000000</td>\n",
       "      <td>383.000000</td>\n",
       "      <td>383.000000</td>\n",
       "      <td>383.000000</td>\n",
       "      <td>383.000000</td>\n",
       "      <td>383.000000</td>\n",
       "      <td>46.000000</td>\n",
       "      <td>46.000000</td>\n",
       "      <td>383.000000</td>\n",
       "      <td>383.000000</td>\n",
       "      <td>383.000000</td>\n",
       "      <td>383.000000</td>\n",
       "      <td>36.000000</td>\n",
       "      <td>337.000000</td>\n",
       "      <td>337.000000</td>\n",
       "    </tr>\n",
       "    <tr>\n",
       "      <th>mean</th>\n",
       "      <td>212.00000</td>\n",
       "      <td>243.621410</td>\n",
       "      <td>221.182768</td>\n",
       "      <td>2216.556136</td>\n",
       "      <td>4676.624021</td>\n",
       "      <td>1378.600522</td>\n",
       "      <td>318.655352</td>\n",
       "      <td>1308.847826</td>\n",
       "      <td>73.173913</td>\n",
       "      <td>1118.519582</td>\n",
       "      <td>14.480418</td>\n",
       "      <td>160.686684</td>\n",
       "      <td>124.357702</td>\n",
       "      <td>3.944444</td>\n",
       "      <td>3833.178042</td>\n",
       "      <td>424.317507</td>\n",
       "    </tr>\n",
       "    <tr>\n",
       "      <th>std</th>\n",
       "      <td>110.70682</td>\n",
       "      <td>50.212014</td>\n",
       "      <td>52.078103</td>\n",
       "      <td>909.400580</td>\n",
       "      <td>1569.358396</td>\n",
       "      <td>726.008769</td>\n",
       "      <td>122.408407</td>\n",
       "      <td>243.455309</td>\n",
       "      <td>5.396725</td>\n",
       "      <td>668.461870</td>\n",
       "      <td>3.425957</td>\n",
       "      <td>65.826569</td>\n",
       "      <td>73.621431</td>\n",
       "      <td>0.333333</td>\n",
       "      <td>1092.338336</td>\n",
       "      <td>290.321205</td>\n",
       "    </tr>\n",
       "    <tr>\n",
       "      <th>min</th>\n",
       "      <td>21.00000</td>\n",
       "      <td>84.000000</td>\n",
       "      <td>108.000000</td>\n",
       "      <td>430.000000</td>\n",
       "      <td>1375.000000</td>\n",
       "      <td>190.000000</td>\n",
       "      <td>70.000000</td>\n",
       "      <td>819.000000</td>\n",
       "      <td>60.000000</td>\n",
       "      <td>11.000000</td>\n",
       "      <td>3.000000</td>\n",
       "      <td>43.000000</td>\n",
       "      <td>10.000000</td>\n",
       "      <td>2.000000</td>\n",
       "      <td>1796.000000</td>\n",
       "      <td>84.000000</td>\n",
       "    </tr>\n",
       "    <tr>\n",
       "      <th>25%</th>\n",
       "      <td>116.50000</td>\n",
       "      <td>216.000000</td>\n",
       "      <td>181.000000</td>\n",
       "      <td>1472.500000</td>\n",
       "      <td>3582.500000</td>\n",
       "      <td>747.000000</td>\n",
       "      <td>236.500000</td>\n",
       "      <td>1145.500000</td>\n",
       "      <td>73.000000</td>\n",
       "      <td>599.500000</td>\n",
       "      <td>14.000000</td>\n",
       "      <td>98.000000</td>\n",
       "      <td>55.000000</td>\n",
       "      <td>4.000000</td>\n",
       "      <td>2823.000000</td>\n",
       "      <td>170.000000</td>\n",
       "    </tr>\n",
       "    <tr>\n",
       "      <th>50%</th>\n",
       "      <td>212.00000</td>\n",
       "      <td>254.000000</td>\n",
       "      <td>219.000000</td>\n",
       "      <td>2254.000000</td>\n",
       "      <td>4796.000000</td>\n",
       "      <td>1355.000000</td>\n",
       "      <td>326.000000</td>\n",
       "      <td>1359.500000</td>\n",
       "      <td>76.000000</td>\n",
       "      <td>950.000000</td>\n",
       "      <td>15.000000</td>\n",
       "      <td>170.000000</td>\n",
       "      <td>126.000000</td>\n",
       "      <td>4.000000</td>\n",
       "      <td>3959.000000</td>\n",
       "      <td>316.000000</td>\n",
       "    </tr>\n",
       "    <tr>\n",
       "      <th>75%</th>\n",
       "      <td>307.50000</td>\n",
       "      <td>283.000000</td>\n",
       "      <td>267.000000</td>\n",
       "      <td>3016.500000</td>\n",
       "      <td>6030.500000</td>\n",
       "      <td>1998.500000</td>\n",
       "      <td>418.000000</td>\n",
       "      <td>1493.000000</td>\n",
       "      <td>76.000000</td>\n",
       "      <td>1707.000000</td>\n",
       "      <td>16.000000</td>\n",
       "      <td>212.000000</td>\n",
       "      <td>179.000000</td>\n",
       "      <td>4.000000</td>\n",
       "      <td>4801.000000</td>\n",
       "      <td>723.000000</td>\n",
       "    </tr>\n",
       "    <tr>\n",
       "      <th>max</th>\n",
       "      <td>403.00000</td>\n",
       "      <td>306.000000</td>\n",
       "      <td>291.000000</td>\n",
       "      <td>3618.000000</td>\n",
       "      <td>6986.000000</td>\n",
       "      <td>2687.000000</td>\n",
       "      <td>527.000000</td>\n",
       "      <td>1701.000000</td>\n",
       "      <td>76.000000</td>\n",
       "      <td>2249.000000</td>\n",
       "      <td>18.000000</td>\n",
       "      <td>279.000000</td>\n",
       "      <td>296.000000</td>\n",
       "      <td>4.000000</td>\n",
       "      <td>5537.000000</td>\n",
       "      <td>911.000000</td>\n",
       "    </tr>\n",
       "  </tbody>\n",
       "</table>\n",
       "</div>"
      ],
      "text/plain": [
       "             day    aircraft  helicopter         tank          APC  \\\n",
       "count  383.00000  383.000000  383.000000   383.000000   383.000000   \n",
       "mean   212.00000  243.621410  221.182768  2216.556136  4676.624021   \n",
       "std    110.70682   50.212014   52.078103   909.400580  1569.358396   \n",
       "min     21.00000   84.000000  108.000000   430.000000  1375.000000   \n",
       "25%    116.50000  216.000000  181.000000  1472.500000  3582.500000   \n",
       "50%    212.00000  254.000000  219.000000  2254.000000  4796.000000   \n",
       "75%    307.50000  283.000000  267.000000  3016.500000  6030.500000   \n",
       "max    403.00000  306.000000  291.000000  3618.000000  6986.000000   \n",
       "\n",
       "       field artillery         MRL  military auto  fuel tank        drone  \\\n",
       "count       383.000000  383.000000      46.000000  46.000000   383.000000   \n",
       "mean       1378.600522  318.655352    1308.847826  73.173913  1118.519582   \n",
       "std         726.008769  122.408407     243.455309   5.396725   668.461870   \n",
       "min         190.000000   70.000000     819.000000  60.000000    11.000000   \n",
       "25%         747.000000  236.500000    1145.500000  73.000000   599.500000   \n",
       "50%        1355.000000  326.000000    1359.500000  76.000000   950.000000   \n",
       "75%        1998.500000  418.000000    1493.000000  76.000000  1707.000000   \n",
       "max        2687.000000  527.000000    1701.000000  76.000000  2249.000000   \n",
       "\n",
       "       naval ship  anti-aircraft warfare  special equipment  \\\n",
       "count  383.000000             383.000000         383.000000   \n",
       "mean    14.480418             160.686684         124.357702   \n",
       "std      3.425957              65.826569          73.621431   \n",
       "min      3.000000              43.000000          10.000000   \n",
       "25%     14.000000              98.000000          55.000000   \n",
       "50%     15.000000             170.000000         126.000000   \n",
       "75%     16.000000             212.000000         179.000000   \n",
       "max     18.000000             279.000000         296.000000   \n",
       "\n",
       "       mobile SRBM system  vehicles and fuel tanks  cruise missiles  \n",
       "count           36.000000               337.000000       337.000000  \n",
       "mean             3.944444              3833.178042       424.317507  \n",
       "std              0.333333              1092.338336       290.321205  \n",
       "min              2.000000              1796.000000        84.000000  \n",
       "25%              4.000000              2823.000000       170.000000  \n",
       "50%              4.000000              3959.000000       316.000000  \n",
       "75%              4.000000              4801.000000       723.000000  \n",
       "max              4.000000              5537.000000       911.000000  "
      ]
     },
     "execution_count": 18,
     "metadata": {},
     "output_type": "execute_result"
    }
   ],
   "source": [
    "equ.describe()"
   ]
  },
  {
   "cell_type": "code",
   "execution_count": 19,
   "metadata": {},
   "outputs": [
    {
     "data": {
      "text/html": [
       "<div>\n",
       "<style scoped>\n",
       "    .dataframe tbody tr th:only-of-type {\n",
       "        vertical-align: middle;\n",
       "    }\n",
       "\n",
       "    .dataframe tbody tr th {\n",
       "        vertical-align: top;\n",
       "    }\n",
       "\n",
       "    .dataframe thead th {\n",
       "        text-align: right;\n",
       "    }\n",
       "</style>\n",
       "<table border=\"1\" class=\"dataframe\">\n",
       "  <thead>\n",
       "    <tr style=\"text-align: right;\">\n",
       "      <th></th>\n",
       "      <th>day</th>\n",
       "      <th>personnel</th>\n",
       "    </tr>\n",
       "  </thead>\n",
       "  <tbody>\n",
       "    <tr>\n",
       "      <th>count</th>\n",
       "      <td>402.000000</td>\n",
       "      <td>402.000000</td>\n",
       "    </tr>\n",
       "    <tr>\n",
       "      <th>mean</th>\n",
       "      <td>202.500000</td>\n",
       "      <td>68174.007463</td>\n",
       "    </tr>\n",
       "    <tr>\n",
       "      <th>std</th>\n",
       "      <td>116.191652</td>\n",
       "      <td>46552.912099</td>\n",
       "    </tr>\n",
       "    <tr>\n",
       "      <th>min</th>\n",
       "      <td>2.000000</td>\n",
       "      <td>2800.000000</td>\n",
       "    </tr>\n",
       "    <tr>\n",
       "      <th>25%</th>\n",
       "      <td>102.250000</td>\n",
       "      <td>31175.000000</td>\n",
       "    </tr>\n",
       "    <tr>\n",
       "      <th>50%</th>\n",
       "      <td>202.500000</td>\n",
       "      <td>53475.000000</td>\n",
       "    </tr>\n",
       "    <tr>\n",
       "      <th>75%</th>\n",
       "      <td>302.750000</td>\n",
       "      <td>100812.500000</td>\n",
       "    </tr>\n",
       "    <tr>\n",
       "      <th>max</th>\n",
       "      <td>403.000000</td>\n",
       "      <td>174550.000000</td>\n",
       "    </tr>\n",
       "  </tbody>\n",
       "</table>\n",
       "</div>"
      ],
      "text/plain": [
       "              day      personnel\n",
       "count  402.000000     402.000000\n",
       "mean   202.500000   68174.007463\n",
       "std    116.191652   46552.912099\n",
       "min      2.000000    2800.000000\n",
       "25%    102.250000   31175.000000\n",
       "50%    202.500000   53475.000000\n",
       "75%    302.750000  100812.500000\n",
       "max    403.000000  174550.000000"
      ]
     },
     "execution_count": 19,
     "metadata": {},
     "output_type": "execute_result"
    }
   ],
   "source": [
    "per.describe()"
   ]
  },
  {
   "attachments": {},
   "cell_type": "markdown",
   "metadata": {},
   "source": [
    "# Data visualization"
   ]
  },
  {
   "attachments": {},
   "cell_type": "markdown",
   "metadata": {},
   "source": [
    "#### Visualization for \"personnel\" dataset"
   ]
  },
  {
   "cell_type": "code",
   "execution_count": 20,
   "metadata": {},
   "outputs": [
    {
     "data": {
      "image/png": "[encoded data removed]",
      "text/plain": [
       "<Figure size 864x576 with 1 Axes>"
      ]
     },
     "metadata": {
      "needs_background": "light"
     },
     "output_type": "display_data"
    }
   ],
   "source": [
    "plt.figure(figsize=(12, 8))\n",
    "sns.set_style(\"dark\")\n",
    "ax = sns.lineplot(x = \"date\", y = \"personnel\", data = per)\n",
    "ax.set(xlabel = \"Time\", ylabel = \"Personnel\",title = \"Russia's casualties\")\n",
    "plt.show()"
   ]
  },
  {
   "cell_type": "code",
   "execution_count": 21,
   "metadata": {},
   "outputs": [
    {
     "data": {
      "image/png": "[encoded data removed]",
      "text/plain": [
       "<Figure size 864x576 with 1 Axes>"
      ]
     },
     "metadata": {},
     "output_type": "display_data"
    }
   ],
   "source": [
    "plt.figure(figsize=(12, 8))\n",
    "sns.histplot(per[\"personnel\"].diff()) # count casualties \n",
    "plt.show()"
   ]
  },
  {
   "attachments": {},
   "cell_type": "markdown",
   "metadata": {},
   "source": [
    "#### Visualization for \"Equipment\" dataset"
   ]
  },
  {
   "cell_type": "code",
   "execution_count": 22,
   "metadata": {},
   "outputs": [
    {
     "data": {
      "image/png": "[encoded data removed]",
      "text/plain": [
       "<Figure size 1296x1440 with 12 Axes>"
      ]
     },
     "metadata": {},
     "output_type": "display_data"
    }
   ],
   "source": [
    "fig, ax = plt.subplots(4, 3, figsize=(18, 20))\n",
    "sns.lineplot(ax=ax[0, 0], data=equ, x='date', y='aircraft')\n",
    "sns.lineplot(ax=ax[0, 1], data=equ, x='date', y='helicopter')\n",
    "sns.lineplot(ax=ax[0, 2], data=equ, x='date', y='tank')\n",
    "sns.lineplot(ax=ax[1, 0], data=equ, x='date', y='APC')\n",
    "sns.lineplot(ax=ax[1, 1], data=equ, x='date', y='field artillery')\n",
    "sns.lineplot(ax=ax[1, 2], data=equ, x='date', y='MRL')\n",
    "sns.lineplot(ax=ax[2, 0], data=equ, x='date', y='drone')\n",
    "sns.lineplot(ax=ax[2, 1], data=equ, x='date', y='naval ship')\n",
    "sns.lineplot(ax=ax[2, 2], data=equ, x='date', y='anti-aircraft warfare')\n",
    "sns.lineplot(ax=ax[3, 0], data=equ, x='date', y='special equipment')\n",
    "sns.lineplot(ax=ax[3, 1], data=equ, x='date', y='vehicles and fuel tanks')\n",
    "sns.lineplot(ax=ax[3, 2], data=equ, x='date', y='cruise missiles')\n",
    "fig.suptitle(\"Russian Equipment Loss\")\n",
    "fig.tight_layout()\n",
    "fig.subplots_adjust(top=0.96)"
   ]
  },
  {
   "attachments": {},
   "cell_type": "markdown",
   "metadata": {},
   "source": [
    "#### Comparison of the military capabilities of Russia and Ukraine(the data was taken from https://www.statista.com/statistics/1296573/russia-ukraine-military-comparison/)"
   ]
  },
  {
   "cell_type": "code",
   "execution_count": 23,
   "metadata": {},
   "outputs": [
    {
     "data": {
      "text/html": [
       "<div>\n",
       "<style scoped>\n",
       "    .dataframe tbody tr th:only-of-type {\n",
       "        vertical-align: middle;\n",
       "    }\n",
       "\n",
       "    .dataframe tbody tr th {\n",
       "        vertical-align: top;\n",
       "    }\n",
       "\n",
       "    .dataframe thead th {\n",
       "        text-align: right;\n",
       "    }\n",
       "</style>\n",
       "<table border=\"1\" class=\"dataframe\">\n",
       "  <thead>\n",
       "    <tr style=\"text-align: right;\">\n",
       "      <th></th>\n",
       "      <th>country</th>\n",
       "      <th>active_soldiers</th>\n",
       "      <th>reserve_forces</th>\n",
       "      <th>total_tanks</th>\n",
       "      <th>total_aircraft</th>\n",
       "      <th>total_helicopters</th>\n",
       "      <th>submarines</th>\n",
       "    </tr>\n",
       "  </thead>\n",
       "  <tbody>\n",
       "    <tr>\n",
       "      <th>Russia</th>\n",
       "      <td>Russia</td>\n",
       "      <td>830900</td>\n",
       "      <td>250000</td>\n",
       "      <td>12566</td>\n",
       "      <td>4182</td>\n",
       "      <td>1531</td>\n",
       "      <td>70</td>\n",
       "    </tr>\n",
       "    <tr>\n",
       "      <th>Ukraine</th>\n",
       "      <td>Ukraine</td>\n",
       "      <td>200000</td>\n",
       "      <td>250000</td>\n",
       "      <td>1890</td>\n",
       "      <td>312</td>\n",
       "      <td>113</td>\n",
       "      <td>0</td>\n",
       "    </tr>\n",
       "  </tbody>\n",
       "</table>\n",
       "</div>"
      ],
      "text/plain": [
       "         country  active_soldiers  reserve_forces  total_tanks  \\\n",
       "Russia    Russia           830900          250000        12566   \n",
       "Ukraine  Ukraine           200000          250000         1890   \n",
       "\n",
       "         total_aircraft  total_helicopters  submarines  \n",
       "Russia             4182               1531          70  \n",
       "Ukraine             312                113           0  "
      ]
     },
     "execution_count": 23,
     "metadata": {},
     "output_type": "execute_result"
    }
   ],
   "source": [
    "rus_ukr = {\n",
    "    \"country\" : [\"Russia\", \"Ukraine\"],\n",
    "    \"active_soldiers\" : [830900, 200000],\n",
    "    \"reserve_forces\" : [250000,250000],\n",
    "    \"total_tanks\" : [12566, 1890],\n",
    "    \"total_aircraft\" : [4182, 312],\n",
    "    \"total_helicopters\" : [1531, 113],\n",
    "    \"submarines\" : [70,0]\n",
    "}\n",
    "comp = pd.DataFrame(rus_ukr, index = [\"Russia\", \"Ukraine\"])\n",
    "comp"
   ]
  },
  {
   "attachments": {},
   "cell_type": "markdown",
   "metadata": {},
   "source": [
    "#### Aggregated Data"
   ]
  },
  {
   "cell_type": "code",
   "execution_count": 24,
   "metadata": {},
   "outputs": [
    {
     "data": {
      "text/html": [
       "<div>\n",
       "<style scoped>\n",
       "    .dataframe tbody tr th:only-of-type {\n",
       "        vertical-align: middle;\n",
       "    }\n",
       "\n",
       "    .dataframe tbody tr th {\n",
       "        vertical-align: top;\n",
       "    }\n",
       "\n",
       "    .dataframe thead th {\n",
       "        text-align: right;\n",
       "    }\n",
       "</style>\n",
       "<table border=\"1\" class=\"dataframe\">\n",
       "  <thead>\n",
       "    <tr style=\"text-align: right;\">\n",
       "      <th></th>\n",
       "      <th>date</th>\n",
       "      <th>day</th>\n",
       "      <th>aircraft</th>\n",
       "      <th>helicopter</th>\n",
       "      <th>tank</th>\n",
       "      <th>APC</th>\n",
       "      <th>field artillery</th>\n",
       "      <th>MRL</th>\n",
       "      <th>military auto</th>\n",
       "      <th>fuel tank</th>\n",
       "      <th>...</th>\n",
       "      <th>naval ship</th>\n",
       "      <th>anti-aircraft warfare</th>\n",
       "      <th>special equipment</th>\n",
       "      <th>mobile SRBM system</th>\n",
       "      <th>greatest losses direction</th>\n",
       "      <th>vehicles and fuel tanks</th>\n",
       "      <th>cruise missiles</th>\n",
       "      <th>tank remaining</th>\n",
       "      <th>aircraft remaining</th>\n",
       "      <th>helicopter remaining</th>\n",
       "    </tr>\n",
       "  </thead>\n",
       "  <tbody>\n",
       "    <tr>\n",
       "      <th>19</th>\n",
       "      <td>2022-03-16</td>\n",
       "      <td>21</td>\n",
       "      <td>84</td>\n",
       "      <td>108</td>\n",
       "      <td>430</td>\n",
       "      <td>1375</td>\n",
       "      <td>190</td>\n",
       "      <td>70</td>\n",
       "      <td>819.0</td>\n",
       "      <td>60.0</td>\n",
       "      <td>...</td>\n",
       "      <td>3</td>\n",
       "      <td>43</td>\n",
       "      <td>10.0</td>\n",
       "      <td>NaN</td>\n",
       "      <td>NaN</td>\n",
       "      <td>NaN</td>\n",
       "      <td>NaN</td>\n",
       "      <td>12136</td>\n",
       "      <td>4098</td>\n",
       "      <td>1423</td>\n",
       "    </tr>\n",
       "    <tr>\n",
       "      <th>20</th>\n",
       "      <td>2022-03-17</td>\n",
       "      <td>22</td>\n",
       "      <td>86</td>\n",
       "      <td>108</td>\n",
       "      <td>444</td>\n",
       "      <td>1435</td>\n",
       "      <td>201</td>\n",
       "      <td>72</td>\n",
       "      <td>864.0</td>\n",
       "      <td>60.0</td>\n",
       "      <td>...</td>\n",
       "      <td>3</td>\n",
       "      <td>43</td>\n",
       "      <td>10.0</td>\n",
       "      <td>NaN</td>\n",
       "      <td>NaN</td>\n",
       "      <td>NaN</td>\n",
       "      <td>NaN</td>\n",
       "      <td>12122</td>\n",
       "      <td>4096</td>\n",
       "      <td>1423</td>\n",
       "    </tr>\n",
       "    <tr>\n",
       "      <th>21</th>\n",
       "      <td>2022-03-18</td>\n",
       "      <td>23</td>\n",
       "      <td>93</td>\n",
       "      <td>112</td>\n",
       "      <td>450</td>\n",
       "      <td>1448</td>\n",
       "      <td>205</td>\n",
       "      <td>72</td>\n",
       "      <td>879.0</td>\n",
       "      <td>60.0</td>\n",
       "      <td>...</td>\n",
       "      <td>3</td>\n",
       "      <td>43</td>\n",
       "      <td>11.0</td>\n",
       "      <td>NaN</td>\n",
       "      <td>NaN</td>\n",
       "      <td>NaN</td>\n",
       "      <td>NaN</td>\n",
       "      <td>12116</td>\n",
       "      <td>4089</td>\n",
       "      <td>1419</td>\n",
       "    </tr>\n",
       "    <tr>\n",
       "      <th>22</th>\n",
       "      <td>2022-03-19</td>\n",
       "      <td>24</td>\n",
       "      <td>95</td>\n",
       "      <td>115</td>\n",
       "      <td>466</td>\n",
       "      <td>1470</td>\n",
       "      <td>213</td>\n",
       "      <td>72</td>\n",
       "      <td>914.0</td>\n",
       "      <td>60.0</td>\n",
       "      <td>...</td>\n",
       "      <td>3</td>\n",
       "      <td>44</td>\n",
       "      <td>11.0</td>\n",
       "      <td>NaN</td>\n",
       "      <td>NaN</td>\n",
       "      <td>NaN</td>\n",
       "      <td>NaN</td>\n",
       "      <td>12100</td>\n",
       "      <td>4087</td>\n",
       "      <td>1416</td>\n",
       "    </tr>\n",
       "    <tr>\n",
       "      <th>23</th>\n",
       "      <td>2022-03-20</td>\n",
       "      <td>25</td>\n",
       "      <td>96</td>\n",
       "      <td>118</td>\n",
       "      <td>476</td>\n",
       "      <td>1487</td>\n",
       "      <td>230</td>\n",
       "      <td>74</td>\n",
       "      <td>947.0</td>\n",
       "      <td>60.0</td>\n",
       "      <td>...</td>\n",
       "      <td>3</td>\n",
       "      <td>44</td>\n",
       "      <td>12.0</td>\n",
       "      <td>NaN</td>\n",
       "      <td>NaN</td>\n",
       "      <td>NaN</td>\n",
       "      <td>NaN</td>\n",
       "      <td>12090</td>\n",
       "      <td>4086</td>\n",
       "      <td>1413</td>\n",
       "    </tr>\n",
       "    <tr>\n",
       "      <th>...</th>\n",
       "      <td>...</td>\n",
       "      <td>...</td>\n",
       "      <td>...</td>\n",
       "      <td>...</td>\n",
       "      <td>...</td>\n",
       "      <td>...</td>\n",
       "      <td>...</td>\n",
       "      <td>...</td>\n",
       "      <td>...</td>\n",
       "      <td>...</td>\n",
       "      <td>...</td>\n",
       "      <td>...</td>\n",
       "      <td>...</td>\n",
       "      <td>...</td>\n",
       "      <td>...</td>\n",
       "      <td>...</td>\n",
       "      <td>...</td>\n",
       "      <td>...</td>\n",
       "      <td>...</td>\n",
       "      <td>...</td>\n",
       "      <td>...</td>\n",
       "    </tr>\n",
       "    <tr>\n",
       "      <th>397</th>\n",
       "      <td>2023-03-29</td>\n",
       "      <td>399</td>\n",
       "      <td>306</td>\n",
       "      <td>291</td>\n",
       "      <td>3609</td>\n",
       "      <td>6966</td>\n",
       "      <td>2659</td>\n",
       "      <td>526</td>\n",
       "      <td>NaN</td>\n",
       "      <td>NaN</td>\n",
       "      <td>...</td>\n",
       "      <td>18</td>\n",
       "      <td>277</td>\n",
       "      <td>288.0</td>\n",
       "      <td>NaN</td>\n",
       "      <td>NaN</td>\n",
       "      <td>5507.0</td>\n",
       "      <td>911.0</td>\n",
       "      <td>8957</td>\n",
       "      <td>3876</td>\n",
       "      <td>1240</td>\n",
       "    </tr>\n",
       "    <tr>\n",
       "      <th>398</th>\n",
       "      <td>2023-03-30</td>\n",
       "      <td>400</td>\n",
       "      <td>306</td>\n",
       "      <td>291</td>\n",
       "      <td>3610</td>\n",
       "      <td>6974</td>\n",
       "      <td>2671</td>\n",
       "      <td>526</td>\n",
       "      <td>NaN</td>\n",
       "      <td>NaN</td>\n",
       "      <td>...</td>\n",
       "      <td>18</td>\n",
       "      <td>278</td>\n",
       "      <td>291.0</td>\n",
       "      <td>NaN</td>\n",
       "      <td>NaN</td>\n",
       "      <td>5518.0</td>\n",
       "      <td>911.0</td>\n",
       "      <td>8956</td>\n",
       "      <td>3876</td>\n",
       "      <td>1240</td>\n",
       "    </tr>\n",
       "    <tr>\n",
       "      <th>399</th>\n",
       "      <td>2023-03-31</td>\n",
       "      <td>401</td>\n",
       "      <td>306</td>\n",
       "      <td>291</td>\n",
       "      <td>3615</td>\n",
       "      <td>6977</td>\n",
       "      <td>2675</td>\n",
       "      <td>526</td>\n",
       "      <td>NaN</td>\n",
       "      <td>NaN</td>\n",
       "      <td>...</td>\n",
       "      <td>18</td>\n",
       "      <td>278</td>\n",
       "      <td>294.0</td>\n",
       "      <td>NaN</td>\n",
       "      <td>NaN</td>\n",
       "      <td>5521.0</td>\n",
       "      <td>911.0</td>\n",
       "      <td>8951</td>\n",
       "      <td>3876</td>\n",
       "      <td>1240</td>\n",
       "    </tr>\n",
       "    <tr>\n",
       "      <th>400</th>\n",
       "      <td>2023-04-01</td>\n",
       "      <td>402</td>\n",
       "      <td>306</td>\n",
       "      <td>291</td>\n",
       "      <td>3616</td>\n",
       "      <td>6981</td>\n",
       "      <td>2683</td>\n",
       "      <td>527</td>\n",
       "      <td>NaN</td>\n",
       "      <td>NaN</td>\n",
       "      <td>...</td>\n",
       "      <td>18</td>\n",
       "      <td>279</td>\n",
       "      <td>296.0</td>\n",
       "      <td>NaN</td>\n",
       "      <td>NaN</td>\n",
       "      <td>5528.0</td>\n",
       "      <td>911.0</td>\n",
       "      <td>8950</td>\n",
       "      <td>3876</td>\n",
       "      <td>1240</td>\n",
       "    </tr>\n",
       "    <tr>\n",
       "      <th>401</th>\n",
       "      <td>2023-04-02</td>\n",
       "      <td>403</td>\n",
       "      <td>306</td>\n",
       "      <td>291</td>\n",
       "      <td>3618</td>\n",
       "      <td>6986</td>\n",
       "      <td>2687</td>\n",
       "      <td>527</td>\n",
       "      <td>NaN</td>\n",
       "      <td>NaN</td>\n",
       "      <td>...</td>\n",
       "      <td>18</td>\n",
       "      <td>279</td>\n",
       "      <td>296.0</td>\n",
       "      <td>NaN</td>\n",
       "      <td>NaN</td>\n",
       "      <td>5537.0</td>\n",
       "      <td>911.0</td>\n",
       "      <td>8948</td>\n",
       "      <td>3876</td>\n",
       "      <td>1240</td>\n",
       "    </tr>\n",
       "  </tbody>\n",
       "</table>\n",
       "<p>383 rows × 21 columns</p>\n",
       "</div>"
      ],
      "text/plain": [
       "          date  day  aircraft  helicopter  tank   APC  field artillery  MRL  \\\n",
       "19  2022-03-16   21        84         108   430  1375              190   70   \n",
       "20  2022-03-17   22        86         108   444  1435              201   72   \n",
       "21  2022-03-18   23        93         112   450  1448              205   72   \n",
       "22  2022-03-19   24        95         115   466  1470              213   72   \n",
       "23  2022-03-20   25        96         118   476  1487              230   74   \n",
       "..         ...  ...       ...         ...   ...   ...              ...  ...   \n",
       "397 2023-03-29  399       306         291  3609  6966             2659  526   \n",
       "398 2023-03-30  400       306         291  3610  6974             2671  526   \n",
       "399 2023-03-31  401       306         291  3615  6977             2675  526   \n",
       "400 2023-04-01  402       306         291  3616  6981             2683  527   \n",
       "401 2023-04-02  403       306         291  3618  6986             2687  527   \n",
       "\n",
       "     military auto  fuel tank  ...  naval ship  anti-aircraft warfare  \\\n",
       "19           819.0       60.0  ...           3                     43   \n",
       "20           864.0       60.0  ...           3                     43   \n",
       "21           879.0       60.0  ...           3                     43   \n",
       "22           914.0       60.0  ...           3                     44   \n",
       "23           947.0       60.0  ...           3                     44   \n",
       "..             ...        ...  ...         ...                    ...   \n",
       "397            NaN        NaN  ...          18                    277   \n",
       "398            NaN        NaN  ...          18                    278   \n",
       "399            NaN        NaN  ...          18                    278   \n",
       "400            NaN        NaN  ...          18                    279   \n",
       "401            NaN        NaN  ...          18                    279   \n",
       "\n",
       "     special equipment  mobile SRBM system  greatest losses direction  \\\n",
       "19                10.0                 NaN                        NaN   \n",
       "20                10.0                 NaN                        NaN   \n",
       "21                11.0                 NaN                        NaN   \n",
       "22                11.0                 NaN                        NaN   \n",
       "23                12.0                 NaN                        NaN   \n",
       "..                 ...                 ...                        ...   \n",
       "397              288.0                 NaN                        NaN   \n",
       "398              291.0                 NaN                        NaN   \n",
       "399              294.0                 NaN                        NaN   \n",
       "400              296.0                 NaN                        NaN   \n",
       "401              296.0                 NaN                        NaN   \n",
       "\n",
       "    vehicles and fuel tanks  cruise missiles  tank remaining  \\\n",
       "19                      NaN              NaN           12136   \n",
       "20                      NaN              NaN           12122   \n",
       "21                      NaN              NaN           12116   \n",
       "22                      NaN              NaN           12100   \n",
       "23                      NaN              NaN           12090   \n",
       "..                      ...              ...             ...   \n",
       "397                  5507.0            911.0            8957   \n",
       "398                  5518.0            911.0            8956   \n",
       "399                  5521.0            911.0            8951   \n",
       "400                  5528.0            911.0            8950   \n",
       "401                  5537.0            911.0            8948   \n",
       "\n",
       "     aircraft remaining  helicopter remaining  \n",
       "19                 4098                  1423  \n",
       "20                 4096                  1423  \n",
       "21                 4089                  1419  \n",
       "22                 4087                  1416  \n",
       "23                 4086                  1413  \n",
       "..                  ...                   ...  \n",
       "397                3876                  1240  \n",
       "398                3876                  1240  \n",
       "399                3876                  1240  \n",
       "400                3876                  1240  \n",
       "401                3876                  1240  \n",
       "\n",
       "[383 rows x 21 columns]"
      ]
     },
     "execution_count": 24,
     "metadata": {},
     "output_type": "execute_result"
    }
   ],
   "source": [
    "agg = equ\n",
    "agg[\"tank remaining\"] = comp[\"total_tanks\"].loc[\"Russia\"]  - agg[\"tank\"]\n",
    "agg[\"aircraft remaining\"] = comp[\"total_aircraft\"].loc[\"Russia\"] - agg[\"aircraft\"]\n",
    "agg[\"helicopter remaining\"] = comp[\"total_helicopters\"].loc[\"Russia\"] - agg[\"helicopter\"]\n",
    "agg"
   ]
  },
  {
   "attachments": {},
   "cell_type": "markdown",
   "metadata": {},
   "source": [
    "#### Russian tanks losses"
   ]
  },
  {
   "cell_type": "code",
   "execution_count": 25,
   "metadata": {},
   "outputs": [
    {
     "data": {
      "application/vnd.plotly.v1+json": {
       "config": {
        "plotlyServerURL": "https://plot.ly"
       },
       "data": [
        {
         "labels": [
          "tanks destroyed",
          "tanks remaining"
         ],
         "type": "pie",
         "values": [
          3618,
          8948
         ]
        }
       ],
       "layout": {
        "template": {
         "data": {
          "bar": [
           {
            "error_x": {
             "color": "#2a3f5f"
            },
            "error_y": {
             "color": "#2a3f5f"
            },
            "marker": {
             "line": {
              "color": "#E5ECF6",
              "width": 0.5
             },
             "pattern": {
              "fillmode": "overlay",
              "size": 10,
              "solidity": 0.2
             }
            },
            "type": "bar"
           }
          ],
          "barpolar": [
           {
            "marker": {
             "line": {
              "color": "#E5ECF6",
              "width": 0.5
             },
             "pattern": {
              "fillmode": "overlay",
              "size": 10,
              "solidity": 0.2
             }
            },
            "type": "barpolar"
           }
          ],
          "carpet": [
           {
            "aaxis": {
             "endlinecolor": "#2a3f5f",
             "gridcolor": "white",
             "linecolor": "white",
             "minorgridcolor": "white",
             "startlinecolor": "#2a3f5f"
            },
            "baxis": {
             "endlinecolor": "#2a3f5f",
             "gridcolor": "white",
             "linecolor": "white",
             "minorgridcolor": "white",
             "startlinecolor": "#2a3f5f"
            },
            "type": "carpet"
           }
          ],
          "choropleth": [
           {
            "colorbar": {
             "outlinewidth": 0,
             "ticks": ""
            },
            "type": "choropleth"
           }
          ],
          "contour": [
           {
            "colorbar": {
             "outlinewidth": 0,
             "ticks": ""
            },
            "colorscale": [
             [
              0,
              "#0d0887"
             ],
             [
              0.1111111111111111,
              "#46039f"
             ],
             [
              0.2222222222222222,
              "#7201a8"
             ],
             [
              0.3333333333333333,
              "#9c179e"
             ],
             [
              0.4444444444444444,
              "#bd3786"
             ],
             [
              0.5555555555555556,
              "#d8576b"
             ],
             [
              0.6666666666666666,
              "#ed7953"
             ],
             [
              0.7777777777777778,
              "#fb9f3a"
             ],
             [
              0.8888888888888888,
              "#fdca26"
             ],
             [
              1,
              "#f0f921"
             ]
            ],
            "type": "contour"
           }
          ],
          "contourcarpet": [
           {
            "colorbar": {
             "outlinewidth": 0,
             "ticks": ""
            },
            "type": "contourcarpet"
           }
          ],
          "heatmap": [
           {
            "colorbar": {
             "outlinewidth": 0,
             "ticks": ""
            },
            "colorscale": [
             [
              0,
              "#0d0887"
             ],
             [
              0.1111111111111111,
              "#46039f"
             ],
             [
              0.2222222222222222,
              "#7201a8"
             ],
             [
              0.3333333333333333,
              "#9c179e"
             ],
             [
              0.4444444444444444,
              "#bd3786"
             ],
             [
              0.5555555555555556,
              "#d8576b"
             ],
             [
              0.6666666666666666,
              "#ed7953"
             ],
             [
              0.7777777777777778,
              "#fb9f3a"
             ],
             [
              0.8888888888888888,
              "#fdca26"
             ],
             [
              1,
              "#f0f921"
             ]
            ],
            "type": "heatmap"
           }
          ],
          "heatmapgl": [
           {
            "colorbar": {
             "outlinewidth": 0,
             "ticks": ""
            },
            "colorscale": [
             [
              0,
              "#0d0887"
             ],
             [
              0.1111111111111111,
              "#46039f"
             ],
             [
              0.2222222222222222,
              "#7201a8"
             ],
             [
              0.3333333333333333,
              "#9c179e"
             ],
             [
              0.4444444444444444,
              "#bd3786"
             ],
             [
              0.5555555555555556,
              "#d8576b"
             ],
             [
              0.6666666666666666,
              "#ed7953"
             ],
             [
              0.7777777777777778,
              "#fb9f3a"
             ],
             [
              0.8888888888888888,
              "#fdca26"
             ],
             [
              1,
              "#f0f921"
             ]
            ],
            "type": "heatmapgl"
           }
          ],
          "histogram": [
           {
            "marker": {
             "pattern": {
              "fillmode": "overlay",
              "size": 10,
              "solidity": 0.2
             }
            },
            "type": "histogram"
           }
          ],
          "histogram2d": [
           {
            "colorbar": {
             "outlinewidth": 0,
             "ticks": ""
            },
            "colorscale": [
             [
              0,
              "#0d0887"
             ],
             [
              0.1111111111111111,
              "#46039f"
             ],
             [
              0.2222222222222222,
              "#7201a8"
             ],
             [
              0.3333333333333333,
              "#9c179e"
             ],
             [
              0.4444444444444444,
              "#bd3786"
             ],
             [
              0.5555555555555556,
              "#d8576b"
             ],
             [
              0.6666666666666666,
              "#ed7953"
             ],
             [
              0.7777777777777778,
              "#fb9f3a"
             ],
             [
              0.8888888888888888,
              "#fdca26"
             ],
             [
              1,
              "#f0f921"
             ]
            ],
            "type": "histogram2d"
           }
          ],
          "histogram2dcontour": [
           {
            "colorbar": {
             "outlinewidth": 0,
             "ticks": ""
            },
            "colorscale": [
             [
              0,
              "#0d0887"
             ],
             [
              0.1111111111111111,
              "#46039f"
             ],
             [
              0.2222222222222222,
              "#7201a8"
             ],
             [
              0.3333333333333333,
              "#9c179e"
             ],
             [
              0.4444444444444444,
              "#bd3786"
             ],
             [
              0.5555555555555556,
              "#d8576b"
             ],
             [
              0.6666666666666666,
              "#ed7953"
             ],
             [
              0.7777777777777778,
              "#fb9f3a"
             ],
             [
              0.8888888888888888,
              "#fdca26"
             ],
             [
              1,
              "#f0f921"
             ]
            ],
            "type": "histogram2dcontour"
           }
          ],
          "mesh3d": [
           {
            "colorbar": {
             "outlinewidth": 0,
             "ticks": ""
            },
            "type": "mesh3d"
           }
          ],
          "parcoords": [
           {
            "line": {
             "colorbar": {
              "outlinewidth": 0,
              "ticks": ""
             }
            },
            "type": "parcoords"
           }
          ],
          "pie": [
           {
            "automargin": true,
            "type": "pie"
           }
          ],
          "scatter": [
           {
            "marker": {
             "colorbar": {
              "outlinewidth": 0,
              "ticks": ""
             }
            },
            "type": "scatter"
           }
          ],
          "scatter3d": [
           {
            "line": {
             "colorbar": {
              "outlinewidth": 0,
              "ticks": ""
             }
            },
            "marker": {
             "colorbar": {
              "outlinewidth": 0,
              "ticks": ""
             }
            },
            "type": "scatter3d"
           }
          ],
          "scattercarpet": [
           {
            "marker": {
             "colorbar": {
              "outlinewidth": 0,
              "ticks": ""
             }
            },
            "type": "scattercarpet"
           }
          ],
          "scattergeo": [
           {
            "marker": {
             "colorbar": {
              "outlinewidth": 0,
              "ticks": ""
             }
            },
            "type": "scattergeo"
           }
          ],
          "scattergl": [
           {
            "marker": {
             "colorbar": {
              "outlinewidth": 0,
              "ticks": ""
             }
            },
            "type": "scattergl"
           }
          ],
          "scattermapbox": [
           {
            "marker": {
             "colorbar": {
              "outlinewidth": 0,
              "ticks": ""
             }
            },
            "type": "scattermapbox"
           }
          ],
          "scatterpolar": [
           {
            "marker": {
             "colorbar": {
              "outlinewidth": 0,
              "ticks": ""
             }
            },
            "type": "scatterpolar"
           }
          ],
          "scatterpolargl": [
           {
            "marker": {
             "colorbar": {
              "outlinewidth": 0,
              "ticks": ""
             }
            },
            "type": "scatterpolargl"
           }
          ],
          "scatterternary": [
           {
            "marker": {
             "colorbar": {
              "outlinewidth": 0,
              "ticks": ""
             }
            },
            "type": "scatterternary"
           }
          ],
          "surface": [
           {
            "colorbar": {
             "outlinewidth": 0,
             "ticks": ""
            },
            "colorscale": [
             [
              0,
              "#0d0887"
             ],
             [
              0.1111111111111111,
              "#46039f"
             ],
             [
              0.2222222222222222,
              "#7201a8"
             ],
             [
              0.3333333333333333,
              "#9c179e"
             ],
             [
              0.4444444444444444,
              "#bd3786"
             ],
             [
              0.5555555555555556,
              "#d8576b"
             ],
             [
              0.6666666666666666,
              "#ed7953"
             ],
             [
              0.7777777777777778,
              "#fb9f3a"
             ],
             [
              0.8888888888888888,
              "#fdca26"
             ],
             [
              1,
              "#f0f921"
             ]
            ],
            "type": "surface"
           }
          ],
          "table": [
           {
            "cells": {
             "fill": {
              "color": "#EBF0F8"
             },
             "line": {
              "color": "white"
             }
            },
            "header": {
             "fill": {
              "color": "#C8D4E3"
             },
             "line": {
              "color": "white"
             }
            },
            "type": "table"
           }
          ]
         },
         "layout": {
          "annotationdefaults": {
           "arrowcolor": "#2a3f5f",
           "arrowhead": 0,
           "arrowwidth": 1
          },
          "autotypenumbers": "strict",
          "coloraxis": {
           "colorbar": {
            "outlinewidth": 0,
            "ticks": ""
           }
          },
          "colorscale": {
           "diverging": [
            [
             0,
             "#8e0152"
            ],
            [
             0.1,
             "#c51b7d"
            ],
            [
             0.2,
             "#de77ae"
            ],
            [
             0.3,
             "#f1b6da"
            ],
            [
             0.4,
             "#fde0ef"
            ],
            [
             0.5,
             "#f7f7f7"
            ],
            [
             0.6,
             "#e6f5d0"
            ],
            [
             0.7,
             "#b8e186"
            ],
            [
             0.8,
             "#7fbc41"
            ],
            [
             0.9,
             "#4d9221"
            ],
            [
             1,
             "#276419"
            ]
           ],
           "sequential": [
            [
             0,
             "#0d0887"
            ],
            [
             0.1111111111111111,
             "#46039f"
            ],
            [
             0.2222222222222222,
             "#7201a8"
            ],
            [
             0.3333333333333333,
             "#9c179e"
            ],
            [
             0.4444444444444444,
             "#bd3786"
            ],
            [
             0.5555555555555556,
             "#d8576b"
            ],
            [
             0.6666666666666666,
             "#ed7953"
            ],
            [
             0.7777777777777778,
             "#fb9f3a"
            ],
            [
             0.8888888888888888,
             "#fdca26"
            ],
            [
             1,
             "#f0f921"
            ]
           ],
           "sequentialminus": [
            [
             0,
             "#0d0887"
            ],
            [
             0.1111111111111111,
             "#46039f"
            ],
            [
             0.2222222222222222,
             "#7201a8"
            ],
            [
             0.3333333333333333,
             "#9c179e"
            ],
            [
             0.4444444444444444,
             "#bd3786"
            ],
            [
             0.5555555555555556,
             "#d8576b"
            ],
            [
             0.6666666666666666,
             "#ed7953"
            ],
            [
             0.7777777777777778,
             "#fb9f3a"
            ],
            [
             0.8888888888888888,
             "#fdca26"
            ],
            [
             1,
             "#f0f921"
            ]
           ]
          },
          "colorway": [
           "#636efa",
           "#EF553B",
           "#00cc96",
           "#ab63fa",
           "#FFA15A",
           "#19d3f3",
           "#FF6692",
           "#B6E880",
           "#FF97FF",
           "#FECB52"
          ],
          "font": {
           "color": "#2a3f5f"
          },
          "geo": {
           "bgcolor": "white",
           "lakecolor": "white",
           "landcolor": "#E5ECF6",
           "showlakes": true,
           "showland": true,
           "subunitcolor": "white"
          },
          "hoverlabel": {
           "align": "left"
          },
          "hovermode": "closest",
          "mapbox": {
           "style": "light"
          },
          "paper_bgcolor": "white",
          "plot_bgcolor": "#E5ECF6",
          "polar": {
           "angularaxis": {
            "gridcolor": "white",
            "linecolor": "white",
            "ticks": ""
           },
           "bgcolor": "#E5ECF6",
           "radialaxis": {
            "gridcolor": "white",
            "linecolor": "white",
            "ticks": ""
           }
          },
          "scene": {
           "xaxis": {
            "backgroundcolor": "#E5ECF6",
            "gridcolor": "white",
            "gridwidth": 2,
            "linecolor": "white",
            "showbackground": true,
            "ticks": "",
            "zerolinecolor": "white"
           },
           "yaxis": {
            "backgroundcolor": "#E5ECF6",
            "gridcolor": "white",
            "gridwidth": 2,
            "linecolor": "white",
            "showbackground": true,
            "ticks": "",
            "zerolinecolor": "white"
           },
           "zaxis": {
            "backgroundcolor": "#E5ECF6",
            "gridcolor": "white",
            "gridwidth": 2,
            "linecolor": "white",
            "showbackground": true,
            "ticks": "",
            "zerolinecolor": "white"
           }
          },
          "shapedefaults": {
           "line": {
            "color": "#2a3f5f"
           }
          },
          "ternary": {
           "aaxis": {
            "gridcolor": "white",
            "linecolor": "white",
            "ticks": ""
           },
           "baxis": {
            "gridcolor": "white",
            "linecolor": "white",
            "ticks": ""
           },
           "bgcolor": "#E5ECF6",
           "caxis": {
            "gridcolor": "white",
            "linecolor": "white",
            "ticks": ""
           }
          },
          "title": {
           "x": 0.05
          },
          "xaxis": {
           "automargin": true,
           "gridcolor": "white",
           "linecolor": "white",
           "ticks": "",
           "title": {
            "standoff": 15
           },
           "zerolinecolor": "white",
           "zerolinewidth": 2
          },
          "yaxis": {
           "automargin": true,
           "gridcolor": "white",
           "linecolor": "white",
           "ticks": "",
           "title": {
            "standoff": 15
           },
           "zerolinecolor": "white",
           "zerolinewidth": 2
          }
         }
        }
       }
      }
     },
     "metadata": {},
     "output_type": "display_data"
    }
   ],
   "source": [
    "labels = ['tanks destroyed',\"tanks remaining\"]\n",
    "values = [agg['tank'].iloc[-1], agg['tank remaining'].iloc[-1]]\n",
    "\n",
    "tank_pie = go.Figure(data=[go.Pie(labels=labels, values=values)])\n",
    "tank_pie.show()"
   ]
  },
  {
   "attachments": {},
   "cell_type": "markdown",
   "metadata": {},
   "source": [
    "#### Russian air vehicles losses"
   ]
  },
  {
   "cell_type": "code",
   "execution_count": 26,
   "metadata": {},
   "outputs": [
    {
     "data": {
      "application/vnd.plotly.v1+json": {
       "config": {
        "plotlyServerURL": "https://plot.ly"
       },
       "data": [
        {
         "labels": [
          "aircraft destroyed",
          "aircraft remaining"
         ],
         "type": "pie",
         "values": [
          306,
          3876
         ]
        }
       ],
       "layout": {
        "template": {
         "data": {
          "bar": [
           {
            "error_x": {
             "color": "#2a3f5f"
            },
            "error_y": {
             "color": "#2a3f5f"
            },
            "marker": {
             "line": {
              "color": "#E5ECF6",
              "width": 0.5
             },
             "pattern": {
              "fillmode": "overlay",
              "size": 10,
              "solidity": 0.2
             }
            },
            "type": "bar"
           }
          ],
          "barpolar": [
           {
            "marker": {
             "line": {
              "color": "#E5ECF6",
              "width": 0.5
             },
             "pattern": {
              "fillmode": "overlay",
              "size": 10,
              "solidity": 0.2
             }
            },
            "type": "barpolar"
           }
          ],
          "carpet": [
           {
            "aaxis": {
             "endlinecolor": "#2a3f5f",
             "gridcolor": "white",
             "linecolor": "white",
             "minorgridcolor": "white",
             "startlinecolor": "#2a3f5f"
            },
            "baxis": {
             "endlinecolor": "#2a3f5f",
             "gridcolor": "white",
             "linecolor": "white",
             "minorgridcolor": "white",
             "startlinecolor": "#2a3f5f"
            },
            "type": "carpet"
           }
          ],
          "choropleth": [
           {
            "colorbar": {
             "outlinewidth": 0,
             "ticks": ""
            },
            "type": "choropleth"
           }
          ],
          "contour": [
           {
            "colorbar": {
             "outlinewidth": 0,
             "ticks": ""
            },
            "colorscale": [
             [
              0,
              "#0d0887"
             ],
             [
              0.1111111111111111,
              "#46039f"
             ],
             [
              0.2222222222222222,
              "#7201a8"
             ],
             [
              0.3333333333333333,
              "#9c179e"
             ],
             [
              0.4444444444444444,
              "#bd3786"
             ],
             [
              0.5555555555555556,
              "#d8576b"
             ],
             [
              0.6666666666666666,
              "#ed7953"
             ],
             [
              0.7777777777777778,
              "#fb9f3a"
             ],
             [
              0.8888888888888888,
              "#fdca26"
             ],
             [
              1,
              "#f0f921"
             ]
            ],
            "type": "contour"
           }
          ],
          "contourcarpet": [
           {
            "colorbar": {
             "outlinewidth": 0,
             "ticks": ""
            },
            "type": "contourcarpet"
           }
          ],
          "heatmap": [
           {
            "colorbar": {
             "outlinewidth": 0,
             "ticks": ""
            },
            "colorscale": [
             [
              0,
              "#0d0887"
             ],
             [
              0.1111111111111111,
              "#46039f"
             ],
             [
              0.2222222222222222,
              "#7201a8"
             ],
             [
              0.3333333333333333,
              "#9c179e"
             ],
             [
              0.4444444444444444,
              "#bd3786"
             ],
             [
              0.5555555555555556,
              "#d8576b"
             ],
             [
              0.6666666666666666,
              "#ed7953"
             ],
             [
              0.7777777777777778,
              "#fb9f3a"
             ],
             [
              0.8888888888888888,
              "#fdca26"
             ],
             [
              1,
              "#f0f921"
             ]
            ],
            "type": "heatmap"
           }
          ],
          "heatmapgl": [
           {
            "colorbar": {
             "outlinewidth": 0,
             "ticks": ""
            },
            "colorscale": [
             [
              0,
              "#0d0887"
             ],
             [
              0.1111111111111111,
              "#46039f"
             ],
             [
              0.2222222222222222,
              "#7201a8"
             ],
             [
              0.3333333333333333,
              "#9c179e"
             ],
             [
              0.4444444444444444,
              "#bd3786"
             ],
             [
              0.5555555555555556,
              "#d8576b"
             ],
             [
              0.6666666666666666,
              "#ed7953"
             ],
             [
              0.7777777777777778,
              "#fb9f3a"
             ],
             [
              0.8888888888888888,
              "#fdca26"
             ],
             [
              1,
              "#f0f921"
             ]
            ],
            "type": "heatmapgl"
           }
          ],
          "histogram": [
           {
            "marker": {
             "pattern": {
              "fillmode": "overlay",
              "size": 10,
              "solidity": 0.2
             }
            },
            "type": "histogram"
           }
          ],
          "histogram2d": [
           {
            "colorbar": {
             "outlinewidth": 0,
             "ticks": ""
            },
            "colorscale": [
             [
              0,
              "#0d0887"
             ],
             [
              0.1111111111111111,
              "#46039f"
             ],
             [
              0.2222222222222222,
              "#7201a8"
             ],
             [
              0.3333333333333333,
              "#9c179e"
             ],
             [
              0.4444444444444444,
              "#bd3786"
             ],
             [
              0.5555555555555556,
              "#d8576b"
             ],
             [
              0.6666666666666666,
              "#ed7953"
             ],
             [
              0.7777777777777778,
              "#fb9f3a"
             ],
             [
              0.8888888888888888,
              "#fdca26"
             ],
             [
              1,
              "#f0f921"
             ]
            ],
            "type": "histogram2d"
           }
          ],
          "histogram2dcontour": [
           {
            "colorbar": {
             "outlinewidth": 0,
             "ticks": ""
            },
            "colorscale": [
             [
              0,
              "#0d0887"
             ],
             [
              0.1111111111111111,
              "#46039f"
             ],
             [
              0.2222222222222222,
              "#7201a8"
             ],
             [
              0.3333333333333333,
              "#9c179e"
             ],
             [
              0.4444444444444444,
              "#bd3786"
             ],
             [
              0.5555555555555556,
              "#d8576b"
             ],
             [
              0.6666666666666666,
              "#ed7953"
             ],
             [
              0.7777777777777778,
              "#fb9f3a"
             ],
             [
              0.8888888888888888,
              "#fdca26"
             ],
             [
              1,
              "#f0f921"
             ]
            ],
            "type": "histogram2dcontour"
           }
          ],
          "mesh3d": [
           {
            "colorbar": {
             "outlinewidth": 0,
             "ticks": ""
            },
            "type": "mesh3d"
           }
          ],
          "parcoords": [
           {
            "line": {
             "colorbar": {
              "outlinewidth": 0,
              "ticks": ""
             }
            },
            "type": "parcoords"
           }
          ],
          "pie": [
           {
            "automargin": true,
            "type": "pie"
           }
          ],
          "scatter": [
           {
            "marker": {
             "colorbar": {
              "outlinewidth": 0,
              "ticks": ""
             }
            },
            "type": "scatter"
           }
          ],
          "scatter3d": [
           {
            "line": {
             "colorbar": {
              "outlinewidth": 0,
              "ticks": ""
             }
            },
            "marker": {
             "colorbar": {
              "outlinewidth": 0,
              "ticks": ""
             }
            },
            "type": "scatter3d"
           }
          ],
          "scattercarpet": [
           {
            "marker": {
             "colorbar": {
              "outlinewidth": 0,
              "ticks": ""
             }
            },
            "type": "scattercarpet"
           }
          ],
          "scattergeo": [
           {
            "marker": {
             "colorbar": {
              "outlinewidth": 0,
              "ticks": ""
             }
            },
            "type": "scattergeo"
           }
          ],
          "scattergl": [
           {
            "marker": {
             "colorbar": {
              "outlinewidth": 0,
              "ticks": ""
             }
            },
            "type": "scattergl"
           }
          ],
          "scattermapbox": [
           {
            "marker": {
             "colorbar": {
              "outlinewidth": 0,
              "ticks": ""
             }
            },
            "type": "scattermapbox"
           }
          ],
          "scatterpolar": [
           {
            "marker": {
             "colorbar": {
              "outlinewidth": 0,
              "ticks": ""
             }
            },
            "type": "scatterpolar"
           }
          ],
          "scatterpolargl": [
           {
            "marker": {
             "colorbar": {
              "outlinewidth": 0,
              "ticks": ""
             }
            },
            "type": "scatterpolargl"
           }
          ],
          "scatterternary": [
           {
            "marker": {
             "colorbar": {
              "outlinewidth": 0,
              "ticks": ""
             }
            },
            "type": "scatterternary"
           }
          ],
          "surface": [
           {
            "colorbar": {
             "outlinewidth": 0,
             "ticks": ""
            },
            "colorscale": [
             [
              0,
              "#0d0887"
             ],
             [
              0.1111111111111111,
              "#46039f"
             ],
             [
              0.2222222222222222,
              "#7201a8"
             ],
             [
              0.3333333333333333,
              "#9c179e"
             ],
             [
              0.4444444444444444,
              "#bd3786"
             ],
             [
              0.5555555555555556,
              "#d8576b"
             ],
             [
              0.6666666666666666,
              "#ed7953"
             ],
             [
              0.7777777777777778,
              "#fb9f3a"
             ],
             [
              0.8888888888888888,
              "#fdca26"
             ],
             [
              1,
              "#f0f921"
             ]
            ],
            "type": "surface"
           }
          ],
          "table": [
           {
            "cells": {
             "fill": {
              "color": "#EBF0F8"
             },
             "line": {
              "color": "white"
             }
            },
            "header": {
             "fill": {
              "color": "#C8D4E3"
             },
             "line": {
              "color": "white"
             }
            },
            "type": "table"
           }
          ]
         },
         "layout": {
          "annotationdefaults": {
           "arrowcolor": "#2a3f5f",
           "arrowhead": 0,
           "arrowwidth": 1
          },
          "autotypenumbers": "strict",
          "coloraxis": {
           "colorbar": {
            "outlinewidth": 0,
            "ticks": ""
           }
          },
          "colorscale": {
           "diverging": [
            [
             0,
             "#8e0152"
            ],
            [
             0.1,
             "#c51b7d"
            ],
            [
             0.2,
             "#de77ae"
            ],
            [
             0.3,
             "#f1b6da"
            ],
            [
             0.4,
             "#fde0ef"
            ],
            [
             0.5,
             "#f7f7f7"
            ],
            [
             0.6,
             "#e6f5d0"
            ],
            [
             0.7,
             "#b8e186"
            ],
            [
             0.8,
             "#7fbc41"
            ],
            [
             0.9,
             "#4d9221"
            ],
            [
             1,
             "#276419"
            ]
           ],
           "sequential": [
            [
             0,
             "#0d0887"
            ],
            [
             0.1111111111111111,
             "#46039f"
            ],
            [
             0.2222222222222222,
             "#7201a8"
            ],
            [
             0.3333333333333333,
             "#9c179e"
            ],
            [
             0.4444444444444444,
             "#bd3786"
            ],
            [
             0.5555555555555556,
             "#d8576b"
            ],
            [
             0.6666666666666666,
             "#ed7953"
            ],
            [
             0.7777777777777778,
             "#fb9f3a"
            ],
            [
             0.8888888888888888,
             "#fdca26"
            ],
            [
             1,
             "#f0f921"
            ]
           ],
           "sequentialminus": [
            [
             0,
             "#0d0887"
            ],
            [
             0.1111111111111111,
             "#46039f"
            ],
            [
             0.2222222222222222,
             "#7201a8"
            ],
            [
             0.3333333333333333,
             "#9c179e"
            ],
            [
             0.4444444444444444,
             "#bd3786"
            ],
            [
             0.5555555555555556,
             "#d8576b"
            ],
            [
             0.6666666666666666,
             "#ed7953"
            ],
            [
             0.7777777777777778,
             "#fb9f3a"
            ],
            [
             0.8888888888888888,
             "#fdca26"
            ],
            [
             1,
             "#f0f921"
            ]
           ]
          },
          "colorway": [
           "#636efa",
           "#EF553B",
           "#00cc96",
           "#ab63fa",
           "#FFA15A",
           "#19d3f3",
           "#FF6692",
           "#B6E880",
           "#FF97FF",
           "#FECB52"
          ],
          "font": {
           "color": "#2a3f5f"
          },
          "geo": {
           "bgcolor": "white",
           "lakecolor": "white",
           "landcolor": "#E5ECF6",
           "showlakes": true,
           "showland": true,
           "subunitcolor": "white"
          },
          "hoverlabel": {
           "align": "left"
          },
          "hovermode": "closest",
          "mapbox": {
           "style": "light"
          },
          "paper_bgcolor": "white",
          "plot_bgcolor": "#E5ECF6",
          "polar": {
           "angularaxis": {
            "gridcolor": "white",
            "linecolor": "white",
            "ticks": ""
           },
           "bgcolor": "#E5ECF6",
           "radialaxis": {
            "gridcolor": "white",
            "linecolor": "white",
            "ticks": ""
           }
          },
          "scene": {
           "xaxis": {
            "backgroundcolor": "#E5ECF6",
            "gridcolor": "white",
            "gridwidth": 2,
            "linecolor": "white",
            "showbackground": true,
            "ticks": "",
            "zerolinecolor": "white"
           },
           "yaxis": {
            "backgroundcolor": "#E5ECF6",
            "gridcolor": "white",
            "gridwidth": 2,
            "linecolor": "white",
            "showbackground": true,
            "ticks": "",
            "zerolinecolor": "white"
           },
           "zaxis": {
            "backgroundcolor": "#E5ECF6",
            "gridcolor": "white",
            "gridwidth": 2,
            "linecolor": "white",
            "showbackground": true,
            "ticks": "",
            "zerolinecolor": "white"
           }
          },
          "shapedefaults": {
           "line": {
            "color": "#2a3f5f"
           }
          },
          "ternary": {
           "aaxis": {
            "gridcolor": "white",
            "linecolor": "white",
            "ticks": ""
           },
           "baxis": {
            "gridcolor": "white",
            "linecolor": "white",
            "ticks": ""
           },
           "bgcolor": "#E5ECF6",
           "caxis": {
            "gridcolor": "white",
            "linecolor": "white",
            "ticks": ""
           }
          },
          "title": {
           "x": 0.05
          },
          "xaxis": {
           "automargin": true,
           "gridcolor": "white",
           "linecolor": "white",
           "ticks": "",
           "title": {
            "standoff": 15
           },
           "zerolinecolor": "white",
           "zerolinewidth": 2
          },
          "yaxis": {
           "automargin": true,
           "gridcolor": "white",
           "linecolor": "white",
           "ticks": "",
           "title": {
            "standoff": 15
           },
           "zerolinecolor": "white",
           "zerolinewidth": 2
          }
         }
        }
       }
      }
     },
     "metadata": {},
     "output_type": "display_data"
    }
   ],
   "source": [
    "labels = ['aircraft destroyed','aircraft remaining']\n",
    "values = [agg['aircraft'].iloc[-1], agg['aircraft remaining'].iloc[-1]]\n",
    "\n",
    "air_pie = go.Figure(data=[go.Pie(labels=labels, values=values)])\n",
    "air_pie.show()"
   ]
  },
  {
   "attachments": {},
   "cell_type": "markdown",
   "metadata": {},
   "source": [
    "#### Russian helicopters losses"
   ]
  },
  {
   "cell_type": "code",
   "execution_count": 27,
   "metadata": {},
   "outputs": [
    {
     "data": {
      "application/vnd.plotly.v1+json": {
       "config": {
        "plotlyServerURL": "https://plot.ly"
       },
       "data": [
        {
         "labels": [
          "helicopter destroyed",
          "helicopter remaining"
         ],
         "type": "pie",
         "values": [
          291,
          1240
         ]
        }
       ],
       "layout": {
        "template": {
         "data": {
          "bar": [
           {
            "error_x": {
             "color": "#2a3f5f"
            },
            "error_y": {
             "color": "#2a3f5f"
            },
            "marker": {
             "line": {
              "color": "#E5ECF6",
              "width": 0.5
             },
             "pattern": {
              "fillmode": "overlay",
              "size": 10,
              "solidity": 0.2
             }
            },
            "type": "bar"
           }
          ],
          "barpolar": [
           {
            "marker": {
             "line": {
              "color": "#E5ECF6",
              "width": 0.5
             },
             "pattern": {
              "fillmode": "overlay",
              "size": 10,
              "solidity": 0.2
             }
            },
            "type": "barpolar"
           }
          ],
          "carpet": [
           {
            "aaxis": {
             "endlinecolor": "#2a3f5f",
             "gridcolor": "white",
             "linecolor": "white",
             "minorgridcolor": "white",
             "startlinecolor": "#2a3f5f"
            },
            "baxis": {
             "endlinecolor": "#2a3f5f",
             "gridcolor": "white",
             "linecolor": "white",
             "minorgridcolor": "white",
             "startlinecolor": "#2a3f5f"
            },
            "type": "carpet"
           }
          ],
          "choropleth": [
           {
            "colorbar": {
             "outlinewidth": 0,
             "ticks": ""
            },
            "type": "choropleth"
           }
          ],
          "contour": [
           {
            "colorbar": {
             "outlinewidth": 0,
             "ticks": ""
            },
            "colorscale": [
             [
              0,
              "#0d0887"
             ],
             [
              0.1111111111111111,
              "#46039f"
             ],
             [
              0.2222222222222222,
              "#7201a8"
             ],
             [
              0.3333333333333333,
              "#9c179e"
             ],
             [
              0.4444444444444444,
              "#bd3786"
             ],
             [
              0.5555555555555556,
              "#d8576b"
             ],
             [
              0.6666666666666666,
              "#ed7953"
             ],
             [
              0.7777777777777778,
              "#fb9f3a"
             ],
             [
              0.8888888888888888,
              "#fdca26"
             ],
             [
              1,
              "#f0f921"
             ]
            ],
            "type": "contour"
           }
          ],
          "contourcarpet": [
           {
            "colorbar": {
             "outlinewidth": 0,
             "ticks": ""
            },
            "type": "contourcarpet"
           }
          ],
          "heatmap": [
           {
            "colorbar": {
             "outlinewidth": 0,
             "ticks": ""
            },
            "colorscale": [
             [
              0,
              "#0d0887"
             ],
             [
              0.1111111111111111,
              "#46039f"
             ],
             [
              0.2222222222222222,
              "#7201a8"
             ],
             [
              0.3333333333333333,
              "#9c179e"
             ],
             [
              0.4444444444444444,
              "#bd3786"
             ],
             [
              0.5555555555555556,
              "#d8576b"
             ],
             [
              0.6666666666666666,
              "#ed7953"
             ],
             [
              0.7777777777777778,
              "#fb9f3a"
             ],
             [
              0.8888888888888888,
              "#fdca26"
             ],
             [
              1,
              "#f0f921"
             ]
            ],
            "type": "heatmap"
           }
          ],
          "heatmapgl": [
           {
            "colorbar": {
             "outlinewidth": 0,
             "ticks": ""
            },
            "colorscale": [
             [
              0,
              "#0d0887"
             ],
             [
              0.1111111111111111,
              "#46039f"
             ],
             [
              0.2222222222222222,
              "#7201a8"
             ],
             [
              0.3333333333333333,
              "#9c179e"
             ],
             [
              0.4444444444444444,
              "#bd3786"
             ],
             [
              0.5555555555555556,
              "#d8576b"
             ],
             [
              0.6666666666666666,
              "#ed7953"
             ],
             [
              0.7777777777777778,
              "#fb9f3a"
             ],
             [
              0.8888888888888888,
              "#fdca26"
             ],
             [
              1,
              "#f0f921"
             ]
            ],
            "type": "heatmapgl"
           }
          ],
          "histogram": [
           {
            "marker": {
             "pattern": {
              "fillmode": "overlay",
              "size": 10,
              "solidity": 0.2
             }
            },
            "type": "histogram"
           }
          ],
          "histogram2d": [
           {
            "colorbar": {
             "outlinewidth": 0,
             "ticks": ""
            },
            "colorscale": [
             [
              0,
              "#0d0887"
             ],
             [
              0.1111111111111111,
              "#46039f"
             ],
             [
              0.2222222222222222,
              "#7201a8"
             ],
             [
              0.3333333333333333,
              "#9c179e"
             ],
             [
              0.4444444444444444,
              "#bd3786"
             ],
             [
              0.5555555555555556,
              "#d8576b"
             ],
             [
              0.6666666666666666,
              "#ed7953"
             ],
             [
              0.7777777777777778,
              "#fb9f3a"
             ],
             [
              0.8888888888888888,
              "#fdca26"
             ],
             [
              1,
              "#f0f921"
             ]
            ],
            "type": "histogram2d"
           }
          ],
          "histogram2dcontour": [
           {
            "colorbar": {
             "outlinewidth": 0,
             "ticks": ""
            },
            "colorscale": [
             [
              0,
              "#0d0887"
             ],
             [
              0.1111111111111111,
              "#46039f"
             ],
             [
              0.2222222222222222,
              "#7201a8"
             ],
             [
              0.3333333333333333,
              "#9c179e"
             ],
             [
              0.4444444444444444,
              "#bd3786"
             ],
             [
              0.5555555555555556,
              "#d8576b"
             ],
             [
              0.6666666666666666,
              "#ed7953"
             ],
             [
              0.7777777777777778,
              "#fb9f3a"
             ],
             [
              0.8888888888888888,
              "#fdca26"
             ],
             [
              1,
              "#f0f921"
             ]
            ],
            "type": "histogram2dcontour"
           }
          ],
          "mesh3d": [
           {
            "colorbar": {
             "outlinewidth": 0,
             "ticks": ""
            },
            "type": "mesh3d"
           }
          ],
          "parcoords": [
           {
            "line": {
             "colorbar": {
              "outlinewidth": 0,
              "ticks": ""
             }
            },
            "type": "parcoords"
           }
          ],
          "pie": [
           {
            "automargin": true,
            "type": "pie"
           }
          ],
          "scatter": [
           {
            "marker": {
             "colorbar": {
              "outlinewidth": 0,
              "ticks": ""
             }
            },
            "type": "scatter"
           }
          ],
          "scatter3d": [
           {
            "line": {
             "colorbar": {
              "outlinewidth": 0,
              "ticks": ""
             }
            },
            "marker": {
             "colorbar": {
              "outlinewidth": 0,
              "ticks": ""
             }
            },
            "type": "scatter3d"
           }
          ],
          "scattercarpet": [
           {
            "marker": {
             "colorbar": {
              "outlinewidth": 0,
              "ticks": ""
             }
            },
            "type": "scattercarpet"
           }
          ],
          "scattergeo": [
           {
            "marker": {
             "colorbar": {
              "outlinewidth": 0,
              "ticks": ""
             }
            },
            "type": "scattergeo"
           }
          ],
          "scattergl": [
           {
            "marker": {
             "colorbar": {
              "outlinewidth": 0,
              "ticks": ""
             }
            },
            "type": "scattergl"
           }
          ],
          "scattermapbox": [
           {
            "marker": {
             "colorbar": {
              "outlinewidth": 0,
              "ticks": ""
             }
            },
            "type": "scattermapbox"
           }
          ],
          "scatterpolar": [
           {
            "marker": {
             "colorbar": {
              "outlinewidth": 0,
              "ticks": ""
             }
            },
            "type": "scatterpolar"
           }
          ],
          "scatterpolargl": [
           {
            "marker": {
             "colorbar": {
              "outlinewidth": 0,
              "ticks": ""
             }
            },
            "type": "scatterpolargl"
           }
          ],
          "scatterternary": [
           {
            "marker": {
             "colorbar": {
              "outlinewidth": 0,
              "ticks": ""
             }
            },
            "type": "scatterternary"
           }
          ],
          "surface": [
           {
            "colorbar": {
             "outlinewidth": 0,
             "ticks": ""
            },
            "colorscale": [
             [
              0,
              "#0d0887"
             ],
             [
              0.1111111111111111,
              "#46039f"
             ],
             [
              0.2222222222222222,
              "#7201a8"
             ],
             [
              0.3333333333333333,
              "#9c179e"
             ],
             [
              0.4444444444444444,
              "#bd3786"
             ],
             [
              0.5555555555555556,
              "#d8576b"
             ],
             [
              0.6666666666666666,
              "#ed7953"
             ],
             [
              0.7777777777777778,
              "#fb9f3a"
             ],
             [
              0.8888888888888888,
              "#fdca26"
             ],
             [
              1,
              "#f0f921"
             ]
            ],
            "type": "surface"
           }
          ],
          "table": [
           {
            "cells": {
             "fill": {
              "color": "#EBF0F8"
             },
             "line": {
              "color": "white"
             }
            },
            "header": {
             "fill": {
              "color": "#C8D4E3"
             },
             "line": {
              "color": "white"
             }
            },
            "type": "table"
           }
          ]
         },
         "layout": {
          "annotationdefaults": {
           "arrowcolor": "#2a3f5f",
           "arrowhead": 0,
           "arrowwidth": 1
          },
          "autotypenumbers": "strict",
          "coloraxis": {
           "colorbar": {
            "outlinewidth": 0,
            "ticks": ""
           }
          },
          "colorscale": {
           "diverging": [
            [
             0,
             "#8e0152"
            ],
            [
             0.1,
             "#c51b7d"
            ],
            [
             0.2,
             "#de77ae"
            ],
            [
             0.3,
             "#f1b6da"
            ],
            [
             0.4,
             "#fde0ef"
            ],
            [
             0.5,
             "#f7f7f7"
            ],
            [
             0.6,
             "#e6f5d0"
            ],
            [
             0.7,
             "#b8e186"
            ],
            [
             0.8,
             "#7fbc41"
            ],
            [
             0.9,
             "#4d9221"
            ],
            [
             1,
             "#276419"
            ]
           ],
           "sequential": [
            [
             0,
             "#0d0887"
            ],
            [
             0.1111111111111111,
             "#46039f"
            ],
            [
             0.2222222222222222,
             "#7201a8"
            ],
            [
             0.3333333333333333,
             "#9c179e"
            ],
            [
             0.4444444444444444,
             "#bd3786"
            ],
            [
             0.5555555555555556,
             "#d8576b"
            ],
            [
             0.6666666666666666,
             "#ed7953"
            ],
            [
             0.7777777777777778,
             "#fb9f3a"
            ],
            [
             0.8888888888888888,
             "#fdca26"
            ],
            [
             1,
             "#f0f921"
            ]
           ],
           "sequentialminus": [
            [
             0,
             "#0d0887"
            ],
            [
             0.1111111111111111,
             "#46039f"
            ],
            [
             0.2222222222222222,
             "#7201a8"
            ],
            [
             0.3333333333333333,
             "#9c179e"
            ],
            [
             0.4444444444444444,
             "#bd3786"
            ],
            [
             0.5555555555555556,
             "#d8576b"
            ],
            [
             0.6666666666666666,
             "#ed7953"
            ],
            [
             0.7777777777777778,
             "#fb9f3a"
            ],
            [
             0.8888888888888888,
             "#fdca26"
            ],
            [
             1,
             "#f0f921"
            ]
           ]
          },
          "colorway": [
           "#636efa",
           "#EF553B",
           "#00cc96",
           "#ab63fa",
           "#FFA15A",
           "#19d3f3",
           "#FF6692",
           "#B6E880",
           "#FF97FF",
           "#FECB52"
          ],
          "font": {
           "color": "#2a3f5f"
          },
          "geo": {
           "bgcolor": "white",
           "lakecolor": "white",
           "landcolor": "#E5ECF6",
           "showlakes": true,
           "showland": true,
           "subunitcolor": "white"
          },
          "hoverlabel": {
           "align": "left"
          },
          "hovermode": "closest",
          "mapbox": {
           "style": "light"
          },
          "paper_bgcolor": "white",
          "plot_bgcolor": "#E5ECF6",
          "polar": {
           "angularaxis": {
            "gridcolor": "white",
            "linecolor": "white",
            "ticks": ""
           },
           "bgcolor": "#E5ECF6",
           "radialaxis": {
            "gridcolor": "white",
            "linecolor": "white",
            "ticks": ""
           }
          },
          "scene": {
           "xaxis": {
            "backgroundcolor": "#E5ECF6",
            "gridcolor": "white",
            "gridwidth": 2,
            "linecolor": "white",
            "showbackground": true,
            "ticks": "",
            "zerolinecolor": "white"
           },
           "yaxis": {
            "backgroundcolor": "#E5ECF6",
            "gridcolor": "white",
            "gridwidth": 2,
            "linecolor": "white",
            "showbackground": true,
            "ticks": "",
            "zerolinecolor": "white"
           },
           "zaxis": {
            "backgroundcolor": "#E5ECF6",
            "gridcolor": "white",
            "gridwidth": 2,
            "linecolor": "white",
            "showbackground": true,
            "ticks": "",
            "zerolinecolor": "white"
           }
          },
          "shapedefaults": {
           "line": {
            "color": "#2a3f5f"
           }
          },
          "ternary": {
           "aaxis": {
            "gridcolor": "white",
            "linecolor": "white",
            "ticks": ""
           },
           "baxis": {
            "gridcolor": "white",
            "linecolor": "white",
            "ticks": ""
           },
           "bgcolor": "#E5ECF6",
           "caxis": {
            "gridcolor": "white",
            "linecolor": "white",
            "ticks": ""
           }
          },
          "title": {
           "x": 0.05
          },
          "xaxis": {
           "automargin": true,
           "gridcolor": "white",
           "linecolor": "white",
           "ticks": "",
           "title": {
            "standoff": 15
           },
           "zerolinecolor": "white",
           "zerolinewidth": 2
          },
          "yaxis": {
           "automargin": true,
           "gridcolor": "white",
           "linecolor": "white",
           "ticks": "",
           "title": {
            "standoff": 15
           },
           "zerolinecolor": "white",
           "zerolinewidth": 2
          }
         }
        }
       }
      }
     },
     "metadata": {},
     "output_type": "display_data"
    }
   ],
   "source": [
    "labels = ['helicopter destroyed','helicopter remaining']\n",
    "values = [agg['helicopter'].iloc[-1], agg['helicopter remaining'].iloc[-1]]\n",
    "\n",
    "heli_pie = go.Figure(data=[go.Pie(labels=labels, values=values)])\n",
    "heli_pie.show()"
   ]
  },
  {
   "attachments": {},
   "cell_type": "markdown",
   "metadata": {},
   "source": [
    "#### To sum up, by April 2, 2023, Russia has lost 28.8% or 3618 tanks, 7.32% or 306 units of air vehicles have been destroyed, and 19% or 291 units of helicopters have been destroyed."
   ]
  },
  {
   "attachments": {},
   "cell_type": "markdown",
   "metadata": {},
   "source": [
    "# External Military Aid in Ukraine\n"
   ]
  },
  {
   "attachments": {},
   "cell_type": "markdown",
   "metadata": {},
   "source": [
    "# Exploratory data analysis(for our own dataset)"
   ]
  },
  {
   "cell_type": "code",
   "execution_count": 28,
   "metadata": {},
   "outputs": [],
   "source": [
    "aid = pd.read_csv(\"..../aid.csv\")"
   ]
  },
  {
   "attachments": {},
   "cell_type": "markdown",
   "metadata": {},
   "source": [
    " The dataset provided contains information on various aspects of the Russian invasion of Ukraine, including casualties, territory captured by the Russian army, and military aid. We decided to separate the aid, ID 1 is the American aid and the ID 2 is what we call NATO, it is the 9 countries that send the most aid to Ukraine in dollars term. These 9 countries are Canada, the Czech Republic, Denmark, France, Germany, Norway, Poland, Sweden, and the United Kingdom. The dataset contains 44 observations for each ID so in total 88 observations and 8 variables: \n",
    " * \"week\": The week number starting from 0\n",
    " * \"ID\": Origin of the aid, 1= United States of America, 2= Our group of 9 countries\n",
    " * \"casulties_week\": Number of Russian casualties that occurred in a given week.\n",
    " * \"casulties_cumulative\": Cumulative total of Russian casualties.\n",
    " * \"territory_week_miles\": Number of square miles captured by the Russian army in a given week.\n",
    " * \"territory_cumulative_miles\": Cumulative total of square miles captured by the Russian army.\n",
    " * \"aid_week\": Amount of American and 9 countries military aid given to Ukraine in millions of dollars in a given week.\n",
    " * \"aid_cumulative\": Cumulative total of American and 9 countries military aid given to Ukraine in millions of dollars.\n",
    " \n",
    "The data is presented in a weekly granularity, with the first day of the invasion considered as week 0. The data is in .csv format and covers the period from 24 February to 31 December. The data is sourced from the Ukraine MOD (“Ministry of Defence of Ukraine”), US MOD (“Releases, U.S. Department of Defense”), the Washington Post (Ledger), and the Kiel Institute (Trebesch et al.). The data from the Ukraine MOD, and US MOD were originally in daily format but transformed to be weekly. The second incomplete data was from the Washington post where the\n",
    "3\n",
    "data ended on November 17 but was completed with the open-source resource (war_mapper). Thirdly the data from the Kiel Institute, the data were daily, so it needed to be transformed to be weekly and it was missing the last 4 weeks, where we decided to use the average."
   ]
  },
  {
   "cell_type": "code",
   "execution_count": 29,
   "metadata": {},
   "outputs": [
    {
     "data": {
      "text/html": [
       "<div>\n",
       "<style scoped>\n",
       "    .dataframe tbody tr th:only-of-type {\n",
       "        vertical-align: middle;\n",
       "    }\n",
       "\n",
       "    .dataframe tbody tr th {\n",
       "        vertical-align: top;\n",
       "    }\n",
       "\n",
       "    .dataframe thead th {\n",
       "        text-align: right;\n",
       "    }\n",
       "</style>\n",
       "<table border=\"1\" class=\"dataframe\">\n",
       "  <thead>\n",
       "    <tr style=\"text-align: right;\">\n",
       "      <th></th>\n",
       "      <th>week</th>\n",
       "      <th>ID</th>\n",
       "      <th>casulties_week</th>\n",
       "      <th>casulties_cumulative</th>\n",
       "      <th>territory_week_miles</th>\n",
       "      <th>territory_cumulative_miles</th>\n",
       "      <th>aid_week</th>\n",
       "      <th>aid_cumulative</th>\n",
       "    </tr>\n",
       "  </thead>\n",
       "  <tbody>\n",
       "    <tr>\n",
       "      <th>0</th>\n",
       "      <td>0</td>\n",
       "      <td>1</td>\n",
       "      <td>1000</td>\n",
       "      <td>1000</td>\n",
       "      <td>13721</td>\n",
       "      <td>13721</td>\n",
       "      <td>0.0</td>\n",
       "      <td>0.0</td>\n",
       "    </tr>\n",
       "    <tr>\n",
       "      <th>1</th>\n",
       "      <td>1</td>\n",
       "      <td>1</td>\n",
       "      <td>8000</td>\n",
       "      <td>9000</td>\n",
       "      <td>16326</td>\n",
       "      <td>30047</td>\n",
       "      <td>350.0</td>\n",
       "      <td>350.0</td>\n",
       "    </tr>\n",
       "    <tr>\n",
       "      <th>2</th>\n",
       "      <td>2</td>\n",
       "      <td>1</td>\n",
       "      <td>3000</td>\n",
       "      <td>12000</td>\n",
       "      <td>579</td>\n",
       "      <td>30626</td>\n",
       "      <td>0.0</td>\n",
       "      <td>350.0</td>\n",
       "    </tr>\n",
       "    <tr>\n",
       "      <th>3</th>\n",
       "      <td>3</td>\n",
       "      <td>1</td>\n",
       "      <td>2000</td>\n",
       "      <td>14000</td>\n",
       "      <td>-90</td>\n",
       "      <td>30536</td>\n",
       "      <td>1000.0</td>\n",
       "      <td>1350.0</td>\n",
       "    </tr>\n",
       "    <tr>\n",
       "      <th>4</th>\n",
       "      <td>4</td>\n",
       "      <td>1</td>\n",
       "      <td>1800</td>\n",
       "      <td>15800</td>\n",
       "      <td>3812</td>\n",
       "      <td>34348</td>\n",
       "      <td>0.0</td>\n",
       "      <td>1350.0</td>\n",
       "    </tr>\n",
       "  </tbody>\n",
       "</table>\n",
       "</div>"
      ],
      "text/plain": [
       "   week  ID  casulties_week  casulties_cumulative  territory_week_miles  \\\n",
       "0     0   1            1000                  1000                 13721   \n",
       "1     1   1            8000                  9000                 16326   \n",
       "2     2   1            3000                 12000                   579   \n",
       "3     3   1            2000                 14000                   -90   \n",
       "4     4   1            1800                 15800                  3812   \n",
       "\n",
       "   territory_cumulative_miles  aid_week  aid_cumulative  \n",
       "0                       13721       0.0             0.0  \n",
       "1                       30047     350.0           350.0  \n",
       "2                       30626       0.0           350.0  \n",
       "3                       30536    1000.0          1350.0  \n",
       "4                       34348       0.0          1350.0  "
      ]
     },
     "execution_count": 29,
     "metadata": {},
     "output_type": "execute_result"
    }
   ],
   "source": [
    "aid.head()"
   ]
  },
  {
   "cell_type": "code",
   "execution_count": 30,
   "metadata": {},
   "outputs": [
    {
     "name": "stdout",
     "output_type": "stream",
     "text": [
      "<class 'pandas.core.frame.DataFrame'>\n",
      "RangeIndex: 90 entries, 0 to 89\n",
      "Data columns (total 8 columns):\n",
      " #   Column                      Non-Null Count  Dtype  \n",
      "---  ------                      --------------  -----  \n",
      " 0   week                        90 non-null     int64  \n",
      " 1   ID                          90 non-null     int64  \n",
      " 2   casulties_week              90 non-null     int64  \n",
      " 3   casulties_cumulative        90 non-null     int64  \n",
      " 4   territory_week_miles        90 non-null     int64  \n",
      " 5   territory_cumulative_miles  90 non-null     int64  \n",
      " 6   aid_week                    90 non-null     float64\n",
      " 7   aid_cumulative              90 non-null     float64\n",
      "dtypes: float64(2), int64(6)\n",
      "memory usage: 5.8 KB\n"
     ]
    },
    {
     "data": {
      "text/plain": [
       "week                          0\n",
       "ID                            0\n",
       "casulties_week                0\n",
       "casulties_cumulative          0\n",
       "territory_week_miles          0\n",
       "territory_cumulative_miles    0\n",
       "aid_week                      0\n",
       "aid_cumulative                0\n",
       "dtype: int64"
      ]
     },
     "execution_count": 30,
     "metadata": {},
     "output_type": "execute_result"
    }
   ],
   "source": [
    "aid.info()\n",
    "aid.isna().sum()"
   ]
  },
  {
   "cell_type": "code",
   "execution_count": 31,
   "metadata": {},
   "outputs": [
    {
     "data": {
      "text/plain": [
       "1    45\n",
       "2    45\n",
       "Name: ID, dtype: int64"
      ]
     },
     "execution_count": 31,
     "metadata": {},
     "output_type": "execute_result"
    }
   ],
   "source": [
    "aid[\"ID\"].value_counts()"
   ]
  },
  {
   "cell_type": "code",
   "execution_count": 32,
   "metadata": {},
   "outputs": [
    {
     "data": {
      "image/png": "[encoded data removed]",
      "text/plain": [
       "<Figure size 864x576 with 1 Axes>"
      ]
     },
     "metadata": {},
     "output_type": "display_data"
    }
   ],
   "source": [
    "plt.figure(figsize=(12, 8))\n",
    "sns.set_style(\"darkgrid\")\n",
    "color_dict = ({1 : \"red\", 2 : \"dodgerblue\"})\n",
    "ax = sns.scatterplot(x = \"week\", y = \"aid_cumulative\",data = aid, palette= color_dict, hue = \"ID\", hue_order = [1,2])\n",
    "ax.set(xlabel = \"Weeks\", ylabel = \"aid\",title = \"Cumulative aid\")\n",
    "plt.legend(title = \"Legend\")\n",
    "plt.show()"
   ]
  },
  {
   "attachments": {},
   "cell_type": "markdown",
   "metadata": {},
   "source": [
    "#### From this graph it is noticeable how the help from the US is more than from 9 countries of Europe. There was a rapid increase at US help after 25th week."
   ]
  },
  {
   "attachments": {},
   "cell_type": "markdown",
   "metadata": {},
   "source": [
    "#### The following step is to convert square miles to square kilometers and get two more variables which we are going to use."
   ]
  },
  {
   "cell_type": "code",
   "execution_count": 33,
   "metadata": {},
   "outputs": [
    {
     "data": {
      "text/html": [
       "<div>\n",
       "<style scoped>\n",
       "    .dataframe tbody tr th:only-of-type {\n",
       "        vertical-align: middle;\n",
       "    }\n",
       "\n",
       "    .dataframe tbody tr th {\n",
       "        vertical-align: top;\n",
       "    }\n",
       "\n",
       "    .dataframe thead th {\n",
       "        text-align: right;\n",
       "    }\n",
       "</style>\n",
       "<table border=\"1\" class=\"dataframe\">\n",
       "  <thead>\n",
       "    <tr style=\"text-align: right;\">\n",
       "      <th></th>\n",
       "      <th>week</th>\n",
       "      <th>ID</th>\n",
       "      <th>casulties_week</th>\n",
       "      <th>casulties_cumulative</th>\n",
       "      <th>territory_week_miles</th>\n",
       "      <th>territory_cumulative_miles</th>\n",
       "      <th>aid_week</th>\n",
       "      <th>aid_cumulative</th>\n",
       "      <th>territory_cumulative_km</th>\n",
       "      <th>territory_week_km</th>\n",
       "    </tr>\n",
       "  </thead>\n",
       "  <tbody>\n",
       "    <tr>\n",
       "      <th>0</th>\n",
       "      <td>0</td>\n",
       "      <td>1</td>\n",
       "      <td>1000</td>\n",
       "      <td>1000</td>\n",
       "      <td>13721</td>\n",
       "      <td>13721</td>\n",
       "      <td>0.0</td>\n",
       "      <td>0.0</td>\n",
       "      <td>35537.39</td>\n",
       "      <td>35537.39</td>\n",
       "    </tr>\n",
       "    <tr>\n",
       "      <th>1</th>\n",
       "      <td>1</td>\n",
       "      <td>1</td>\n",
       "      <td>8000</td>\n",
       "      <td>9000</td>\n",
       "      <td>16326</td>\n",
       "      <td>30047</td>\n",
       "      <td>350.0</td>\n",
       "      <td>350.0</td>\n",
       "      <td>77821.73</td>\n",
       "      <td>42284.34</td>\n",
       "    </tr>\n",
       "    <tr>\n",
       "      <th>2</th>\n",
       "      <td>2</td>\n",
       "      <td>1</td>\n",
       "      <td>3000</td>\n",
       "      <td>12000</td>\n",
       "      <td>579</td>\n",
       "      <td>30626</td>\n",
       "      <td>0.0</td>\n",
       "      <td>350.0</td>\n",
       "      <td>79321.34</td>\n",
       "      <td>1499.61</td>\n",
       "    </tr>\n",
       "    <tr>\n",
       "      <th>3</th>\n",
       "      <td>3</td>\n",
       "      <td>1</td>\n",
       "      <td>2000</td>\n",
       "      <td>14000</td>\n",
       "      <td>-90</td>\n",
       "      <td>30536</td>\n",
       "      <td>1000.0</td>\n",
       "      <td>1350.0</td>\n",
       "      <td>79088.24</td>\n",
       "      <td>-233.10</td>\n",
       "    </tr>\n",
       "    <tr>\n",
       "      <th>4</th>\n",
       "      <td>4</td>\n",
       "      <td>1</td>\n",
       "      <td>1800</td>\n",
       "      <td>15800</td>\n",
       "      <td>3812</td>\n",
       "      <td>34348</td>\n",
       "      <td>0.0</td>\n",
       "      <td>1350.0</td>\n",
       "      <td>88961.32</td>\n",
       "      <td>9873.08</td>\n",
       "    </tr>\n",
       "  </tbody>\n",
       "</table>\n",
       "</div>"
      ],
      "text/plain": [
       "   week  ID  casulties_week  casulties_cumulative  territory_week_miles  \\\n",
       "0     0   1            1000                  1000                 13721   \n",
       "1     1   1            8000                  9000                 16326   \n",
       "2     2   1            3000                 12000                   579   \n",
       "3     3   1            2000                 14000                   -90   \n",
       "4     4   1            1800                 15800                  3812   \n",
       "\n",
       "   territory_cumulative_miles  aid_week  aid_cumulative  \\\n",
       "0                       13721       0.0             0.0   \n",
       "1                       30047     350.0           350.0   \n",
       "2                       30626       0.0           350.0   \n",
       "3                       30536    1000.0          1350.0   \n",
       "4                       34348       0.0          1350.0   \n",
       "\n",
       "   territory_cumulative_km  territory_week_km   \n",
       "0                 35537.39            35537.39  \n",
       "1                 77821.73            42284.34  \n",
       "2                 79321.34             1499.61  \n",
       "3                 79088.24             -233.10  \n",
       "4                 88961.32             9873.08  "
      ]
     },
     "execution_count": 33,
     "metadata": {},
     "output_type": "execute_result"
    }
   ],
   "source": [
    "aid[\"territory_cumulative_km\"] = aid[\"territory_cumulative_miles\"] * 2.59\n",
    "aid[\"territory_week_km \"] = aid[\"territory_week_miles\"] * 2.59\n",
    "aid.head()"
   ]
  },
  {
   "attachments": {},
   "cell_type": "markdown",
   "metadata": {},
   "source": [
    "#### There is a significant remark that Russia captured almost all territories during the first 7 weeks, and there was not much external help in the first 7 weeks. Therefore, it can influence our results and inferences from the tests. That’s why we decided to drop the first 7 weeks."
   ]
  },
  {
   "cell_type": "code",
   "execution_count": 64,
   "metadata": {},
   "outputs": [
    {
     "data": {
      "text/html": [
       "<div>\n",
       "<style scoped>\n",
       "    .dataframe tbody tr th:only-of-type {\n",
       "        vertical-align: middle;\n",
       "    }\n",
       "\n",
       "    .dataframe tbody tr th {\n",
       "        vertical-align: top;\n",
       "    }\n",
       "\n",
       "    .dataframe thead th {\n",
       "        text-align: right;\n",
       "    }\n",
       "</style>\n",
       "<table border=\"1\" class=\"dataframe\">\n",
       "  <thead>\n",
       "    <tr style=\"text-align: right;\">\n",
       "      <th></th>\n",
       "      <th>week</th>\n",
       "      <th>ID</th>\n",
       "      <th>casulties_week</th>\n",
       "      <th>casulties_cumulative</th>\n",
       "      <th>territory_week_miles</th>\n",
       "      <th>territory_cumulative_miles</th>\n",
       "      <th>aid_week</th>\n",
       "      <th>aid_cumulative</th>\n",
       "      <th>territory_cumulative_km</th>\n",
       "      <th>territory_week_km</th>\n",
       "    </tr>\n",
       "  </thead>\n",
       "  <tbody>\n",
       "    <tr>\n",
       "      <th>8</th>\n",
       "      <td>8</td>\n",
       "      <td>1</td>\n",
       "      <td>1100</td>\n",
       "      <td>21000</td>\n",
       "      <td>1354</td>\n",
       "      <td>25607</td>\n",
       "      <td>800.000000</td>\n",
       "      <td>3350.00000</td>\n",
       "      <td>66322.13</td>\n",
       "      <td>3506.86</td>\n",
       "    </tr>\n",
       "    <tr>\n",
       "      <th>9</th>\n",
       "      <td>9</td>\n",
       "      <td>1</td>\n",
       "      <td>1800</td>\n",
       "      <td>22800</td>\n",
       "      <td>1701</td>\n",
       "      <td>27308</td>\n",
       "      <td>0.000000</td>\n",
       "      <td>3350.00000</td>\n",
       "      <td>70727.72</td>\n",
       "      <td>4405.59</td>\n",
       "    </tr>\n",
       "    <tr>\n",
       "      <th>10</th>\n",
       "      <td>10</td>\n",
       "      <td>1</td>\n",
       "      <td>1900</td>\n",
       "      <td>24700</td>\n",
       "      <td>-488</td>\n",
       "      <td>26820</td>\n",
       "      <td>0.000000</td>\n",
       "      <td>3350.00000</td>\n",
       "      <td>69463.80</td>\n",
       "      <td>-1263.92</td>\n",
       "    </tr>\n",
       "    <tr>\n",
       "      <th>11</th>\n",
       "      <td>11</td>\n",
       "      <td>1</td>\n",
       "      <td>1950</td>\n",
       "      <td>26650</td>\n",
       "      <td>815</td>\n",
       "      <td>27635</td>\n",
       "      <td>150.000000</td>\n",
       "      <td>3500.00000</td>\n",
       "      <td>71574.65</td>\n",
       "      <td>2110.85</td>\n",
       "    </tr>\n",
       "    <tr>\n",
       "      <th>12</th>\n",
       "      <td>12</td>\n",
       "      <td>1</td>\n",
       "      <td>1850</td>\n",
       "      <td>28500</td>\n",
       "      <td>-41</td>\n",
       "      <td>27594</td>\n",
       "      <td>100.000000</td>\n",
       "      <td>3600.00000</td>\n",
       "      <td>71468.46</td>\n",
       "      <td>-106.19</td>\n",
       "    </tr>\n",
       "    <tr>\n",
       "      <th>...</th>\n",
       "      <td>...</td>\n",
       "      <td>...</td>\n",
       "      <td>...</td>\n",
       "      <td>...</td>\n",
       "      <td>...</td>\n",
       "      <td>...</td>\n",
       "      <td>...</td>\n",
       "      <td>...</td>\n",
       "      <td>...</td>\n",
       "      <td>...</td>\n",
       "    </tr>\n",
       "    <tr>\n",
       "      <th>85</th>\n",
       "      <td>40</td>\n",
       "      <td>2</td>\n",
       "      <td>3720</td>\n",
       "      <td>89440</td>\n",
       "      <td>4</td>\n",
       "      <td>23543</td>\n",
       "      <td>400.000000</td>\n",
       "      <td>12024.15356</td>\n",
       "      <td>60976.37</td>\n",
       "      <td>10.36</td>\n",
       "    </tr>\n",
       "    <tr>\n",
       "      <th>86</th>\n",
       "      <td>41</td>\n",
       "      <td>2</td>\n",
       "      <td>3640</td>\n",
       "      <td>93080</td>\n",
       "      <td>-1</td>\n",
       "      <td>23542</td>\n",
       "      <td>293.272038</td>\n",
       "      <td>12317.42560</td>\n",
       "      <td>60973.78</td>\n",
       "      <td>-2.59</td>\n",
       "    </tr>\n",
       "    <tr>\n",
       "      <th>87</th>\n",
       "      <td>42</td>\n",
       "      <td>2</td>\n",
       "      <td>3510</td>\n",
       "      <td>96590</td>\n",
       "      <td>3</td>\n",
       "      <td>23545</td>\n",
       "      <td>293.272038</td>\n",
       "      <td>12610.69764</td>\n",
       "      <td>60981.55</td>\n",
       "      <td>7.77</td>\n",
       "    </tr>\n",
       "    <tr>\n",
       "      <th>88</th>\n",
       "      <td>43</td>\n",
       "      <td>2</td>\n",
       "      <td>3810</td>\n",
       "      <td>100400</td>\n",
       "      <td>-1</td>\n",
       "      <td>23544</td>\n",
       "      <td>293.272038</td>\n",
       "      <td>12903.96968</td>\n",
       "      <td>60978.96</td>\n",
       "      <td>-2.59</td>\n",
       "    </tr>\n",
       "    <tr>\n",
       "      <th>89</th>\n",
       "      <td>44</td>\n",
       "      <td>2</td>\n",
       "      <td>4160</td>\n",
       "      <td>104560</td>\n",
       "      <td>0</td>\n",
       "      <td>23544</td>\n",
       "      <td>293.272038</td>\n",
       "      <td>13197.24172</td>\n",
       "      <td>60978.96</td>\n",
       "      <td>0.00</td>\n",
       "    </tr>\n",
       "  </tbody>\n",
       "</table>\n",
       "<p>74 rows × 10 columns</p>\n",
       "</div>"
      ],
      "text/plain": [
       "    week  ID  casulties_week  casulties_cumulative  territory_week_miles  \\\n",
       "8      8   1            1100                 21000                  1354   \n",
       "9      9   1            1800                 22800                  1701   \n",
       "10    10   1            1900                 24700                  -488   \n",
       "11    11   1            1950                 26650                   815   \n",
       "12    12   1            1850                 28500                   -41   \n",
       "..   ...  ..             ...                   ...                   ...   \n",
       "85    40   2            3720                 89440                     4   \n",
       "86    41   2            3640                 93080                    -1   \n",
       "87    42   2            3510                 96590                     3   \n",
       "88    43   2            3810                100400                    -1   \n",
       "89    44   2            4160                104560                     0   \n",
       "\n",
       "    territory_cumulative_miles    aid_week  aid_cumulative  \\\n",
       "8                        25607  800.000000      3350.00000   \n",
       "9                        27308    0.000000      3350.00000   \n",
       "10                       26820    0.000000      3350.00000   \n",
       "11                       27635  150.000000      3500.00000   \n",
       "12                       27594  100.000000      3600.00000   \n",
       "..                         ...         ...             ...   \n",
       "85                       23543  400.000000     12024.15356   \n",
       "86                       23542  293.272038     12317.42560   \n",
       "87                       23545  293.272038     12610.69764   \n",
       "88                       23544  293.272038     12903.96968   \n",
       "89                       23544  293.272038     13197.24172   \n",
       "\n",
       "    territory_cumulative_km  territory_week_km   \n",
       "8                  66322.13             3506.86  \n",
       "9                  70727.72             4405.59  \n",
       "10                 69463.80            -1263.92  \n",
       "11                 71574.65             2110.85  \n",
       "12                 71468.46             -106.19  \n",
       "..                      ...                 ...  \n",
       "85                 60976.37               10.36  \n",
       "86                 60973.78               -2.59  \n",
       "87                 60981.55                7.77  \n",
       "88                 60978.96               -2.59  \n",
       "89                 60978.96                0.00  \n",
       "\n",
       "[74 rows x 10 columns]"
      ]
     },
     "execution_count": 64,
     "metadata": {},
     "output_type": "execute_result"
    }
   ],
   "source": [
    "short_data = aid.drop([0,1,2,3,4,5,6,7,45,46,47,48,49,50,51,52])\n",
    "short_data"
   ]
  },
  {
   "attachments": {},
   "cell_type": "markdown",
   "metadata": {},
   "source": [
    "#### Create two separate datasets for each ID."
   ]
  },
  {
   "cell_type": "code",
   "execution_count": 35,
   "metadata": {},
   "outputs": [
    {
     "data": {
      "text/html": [
       "<div>\n",
       "<style scoped>\n",
       "    .dataframe tbody tr th:only-of-type {\n",
       "        vertical-align: middle;\n",
       "    }\n",
       "\n",
       "    .dataframe tbody tr th {\n",
       "        vertical-align: top;\n",
       "    }\n",
       "\n",
       "    .dataframe thead th {\n",
       "        text-align: right;\n",
       "    }\n",
       "</style>\n",
       "<table border=\"1\" class=\"dataframe\">\n",
       "  <thead>\n",
       "    <tr style=\"text-align: right;\">\n",
       "      <th></th>\n",
       "      <th>week</th>\n",
       "      <th>ID</th>\n",
       "      <th>casulties_week</th>\n",
       "      <th>casulties_cumulative</th>\n",
       "      <th>territory_week_miles</th>\n",
       "      <th>territory_cumulative_miles</th>\n",
       "      <th>aid_week</th>\n",
       "      <th>aid_cumulative</th>\n",
       "      <th>territory_cumulative_km</th>\n",
       "      <th>territory_week_km</th>\n",
       "    </tr>\n",
       "  </thead>\n",
       "  <tbody>\n",
       "    <tr>\n",
       "      <th>8</th>\n",
       "      <td>8</td>\n",
       "      <td>1</td>\n",
       "      <td>1100</td>\n",
       "      <td>21000</td>\n",
       "      <td>1354</td>\n",
       "      <td>25607</td>\n",
       "      <td>800.0</td>\n",
       "      <td>3350.0</td>\n",
       "      <td>66322.13</td>\n",
       "      <td>3506.86</td>\n",
       "    </tr>\n",
       "    <tr>\n",
       "      <th>9</th>\n",
       "      <td>9</td>\n",
       "      <td>1</td>\n",
       "      <td>1800</td>\n",
       "      <td>22800</td>\n",
       "      <td>1701</td>\n",
       "      <td>27308</td>\n",
       "      <td>0.0</td>\n",
       "      <td>3350.0</td>\n",
       "      <td>70727.72</td>\n",
       "      <td>4405.59</td>\n",
       "    </tr>\n",
       "    <tr>\n",
       "      <th>10</th>\n",
       "      <td>10</td>\n",
       "      <td>1</td>\n",
       "      <td>1900</td>\n",
       "      <td>24700</td>\n",
       "      <td>-488</td>\n",
       "      <td>26820</td>\n",
       "      <td>0.0</td>\n",
       "      <td>3350.0</td>\n",
       "      <td>69463.80</td>\n",
       "      <td>-1263.92</td>\n",
       "    </tr>\n",
       "    <tr>\n",
       "      <th>11</th>\n",
       "      <td>11</td>\n",
       "      <td>1</td>\n",
       "      <td>1950</td>\n",
       "      <td>26650</td>\n",
       "      <td>815</td>\n",
       "      <td>27635</td>\n",
       "      <td>150.0</td>\n",
       "      <td>3500.0</td>\n",
       "      <td>71574.65</td>\n",
       "      <td>2110.85</td>\n",
       "    </tr>\n",
       "    <tr>\n",
       "      <th>12</th>\n",
       "      <td>12</td>\n",
       "      <td>1</td>\n",
       "      <td>1850</td>\n",
       "      <td>28500</td>\n",
       "      <td>-41</td>\n",
       "      <td>27594</td>\n",
       "      <td>100.0</td>\n",
       "      <td>3600.0</td>\n",
       "      <td>71468.46</td>\n",
       "      <td>-106.19</td>\n",
       "    </tr>\n",
       "  </tbody>\n",
       "</table>\n",
       "</div>"
      ],
      "text/plain": [
       "    week  ID  casulties_week  casulties_cumulative  territory_week_miles  \\\n",
       "8      8   1            1100                 21000                  1354   \n",
       "9      9   1            1800                 22800                  1701   \n",
       "10    10   1            1900                 24700                  -488   \n",
       "11    11   1            1950                 26650                   815   \n",
       "12    12   1            1850                 28500                   -41   \n",
       "\n",
       "    territory_cumulative_miles  aid_week  aid_cumulative  \\\n",
       "8                        25607     800.0          3350.0   \n",
       "9                        27308       0.0          3350.0   \n",
       "10                       26820       0.0          3350.0   \n",
       "11                       27635     150.0          3500.0   \n",
       "12                       27594     100.0          3600.0   \n",
       "\n",
       "    territory_cumulative_km  territory_week_km   \n",
       "8                  66322.13             3506.86  \n",
       "9                  70727.72             4405.59  \n",
       "10                 69463.80            -1263.92  \n",
       "11                 71574.65             2110.85  \n",
       "12                 71468.46             -106.19  "
      ]
     },
     "execution_count": 35,
     "metadata": {},
     "output_type": "execute_result"
    }
   ],
   "source": [
    "us = short_data[short_data[\"ID\"] == 1]\n",
    "nato = short_data[short_data[\"ID\"] == 2]\n",
    "us.head()"
   ]
  },
  {
   "cell_type": "code",
   "execution_count": 36,
   "metadata": {},
   "outputs": [
    {
     "data": {
      "text/html": [
       "<div>\n",
       "<style scoped>\n",
       "    .dataframe tbody tr th:only-of-type {\n",
       "        vertical-align: middle;\n",
       "    }\n",
       "\n",
       "    .dataframe tbody tr th {\n",
       "        vertical-align: top;\n",
       "    }\n",
       "\n",
       "    .dataframe thead th {\n",
       "        text-align: right;\n",
       "    }\n",
       "</style>\n",
       "<table border=\"1\" class=\"dataframe\">\n",
       "  <thead>\n",
       "    <tr style=\"text-align: right;\">\n",
       "      <th></th>\n",
       "      <th>week</th>\n",
       "      <th>ID</th>\n",
       "      <th>casulties_week</th>\n",
       "      <th>casulties_cumulative</th>\n",
       "      <th>territory_week_miles</th>\n",
       "      <th>territory_cumulative_miles</th>\n",
       "      <th>aid_week</th>\n",
       "      <th>aid_cumulative</th>\n",
       "      <th>territory_cumulative_km</th>\n",
       "      <th>territory_week_km</th>\n",
       "    </tr>\n",
       "  </thead>\n",
       "  <tbody>\n",
       "    <tr>\n",
       "      <th>53</th>\n",
       "      <td>8</td>\n",
       "      <td>2</td>\n",
       "      <td>1100</td>\n",
       "      <td>21000</td>\n",
       "      <td>1354</td>\n",
       "      <td>25607</td>\n",
       "      <td>111.235545</td>\n",
       "      <td>2349.469121</td>\n",
       "      <td>66322.13</td>\n",
       "      <td>3506.86</td>\n",
       "    </tr>\n",
       "    <tr>\n",
       "      <th>54</th>\n",
       "      <td>9</td>\n",
       "      <td>2</td>\n",
       "      <td>1800</td>\n",
       "      <td>22800</td>\n",
       "      <td>1701</td>\n",
       "      <td>27308</td>\n",
       "      <td>710.608422</td>\n",
       "      <td>3060.077543</td>\n",
       "      <td>70727.72</td>\n",
       "      <td>4405.59</td>\n",
       "    </tr>\n",
       "    <tr>\n",
       "      <th>55</th>\n",
       "      <td>10</td>\n",
       "      <td>2</td>\n",
       "      <td>1900</td>\n",
       "      <td>24700</td>\n",
       "      <td>-488</td>\n",
       "      <td>26820</td>\n",
       "      <td>1618.461701</td>\n",
       "      <td>4678.539244</td>\n",
       "      <td>69463.80</td>\n",
       "      <td>-1263.92</td>\n",
       "    </tr>\n",
       "    <tr>\n",
       "      <th>56</th>\n",
       "      <td>11</td>\n",
       "      <td>2</td>\n",
       "      <td>1950</td>\n",
       "      <td>26650</td>\n",
       "      <td>815</td>\n",
       "      <td>27635</td>\n",
       "      <td>487.500000</td>\n",
       "      <td>5166.039244</td>\n",
       "      <td>71574.65</td>\n",
       "      <td>2110.85</td>\n",
       "    </tr>\n",
       "    <tr>\n",
       "      <th>57</th>\n",
       "      <td>12</td>\n",
       "      <td>2</td>\n",
       "      <td>1850</td>\n",
       "      <td>28500</td>\n",
       "      <td>-41</td>\n",
       "      <td>27594</td>\n",
       "      <td>25.096000</td>\n",
       "      <td>5191.135244</td>\n",
       "      <td>71468.46</td>\n",
       "      <td>-106.19</td>\n",
       "    </tr>\n",
       "  </tbody>\n",
       "</table>\n",
       "</div>"
      ],
      "text/plain": [
       "    week  ID  casulties_week  casulties_cumulative  territory_week_miles  \\\n",
       "53     8   2            1100                 21000                  1354   \n",
       "54     9   2            1800                 22800                  1701   \n",
       "55    10   2            1900                 24700                  -488   \n",
       "56    11   2            1950                 26650                   815   \n",
       "57    12   2            1850                 28500                   -41   \n",
       "\n",
       "    territory_cumulative_miles     aid_week  aid_cumulative  \\\n",
       "53                       25607   111.235545     2349.469121   \n",
       "54                       27308   710.608422     3060.077543   \n",
       "55                       26820  1618.461701     4678.539244   \n",
       "56                       27635   487.500000     5166.039244   \n",
       "57                       27594    25.096000     5191.135244   \n",
       "\n",
       "    territory_cumulative_km  territory_week_km   \n",
       "53                 66322.13             3506.86  \n",
       "54                 70727.72             4405.59  \n",
       "55                 69463.80            -1263.92  \n",
       "56                 71574.65             2110.85  \n",
       "57                 71468.46             -106.19  "
      ]
     },
     "execution_count": 36,
     "metadata": {},
     "output_type": "execute_result"
    }
   ],
   "source": [
    "nato.head()"
   ]
  },
  {
   "attachments": {},
   "cell_type": "markdown",
   "metadata": {},
   "source": [
    "#### For future analysis we will be using 3 datasets.For each of them we create indexes to manipulate as a panel data and use appropriate tests. A Column \"ID\" is our field of interests(heterogeneity) and a column \"week\" is a time-series data. "
   ]
  },
  {
   "cell_type": "code",
   "execution_count": 37,
   "metadata": {},
   "outputs": [
    {
     "data": {
      "text/html": [
       "<div>\n",
       "<style scoped>\n",
       "    .dataframe tbody tr th:only-of-type {\n",
       "        vertical-align: middle;\n",
       "    }\n",
       "\n",
       "    .dataframe tbody tr th {\n",
       "        vertical-align: top;\n",
       "    }\n",
       "\n",
       "    .dataframe thead th {\n",
       "        text-align: right;\n",
       "    }\n",
       "</style>\n",
       "<table border=\"1\" class=\"dataframe\">\n",
       "  <thead>\n",
       "    <tr style=\"text-align: right;\">\n",
       "      <th></th>\n",
       "      <th></th>\n",
       "      <th>casulties_week</th>\n",
       "      <th>casulties_cumulative</th>\n",
       "      <th>territory_week_miles</th>\n",
       "      <th>territory_cumulative_miles</th>\n",
       "      <th>aid_week</th>\n",
       "      <th>aid_cumulative</th>\n",
       "      <th>territory_cumulative_km</th>\n",
       "      <th>territory_week_km</th>\n",
       "    </tr>\n",
       "    <tr>\n",
       "      <th>ID</th>\n",
       "      <th>week</th>\n",
       "      <th></th>\n",
       "      <th></th>\n",
       "      <th></th>\n",
       "      <th></th>\n",
       "      <th></th>\n",
       "      <th></th>\n",
       "      <th></th>\n",
       "      <th></th>\n",
       "    </tr>\n",
       "  </thead>\n",
       "  <tbody>\n",
       "    <tr>\n",
       "      <th rowspan=\"5\" valign=\"top\">1</th>\n",
       "      <th>8</th>\n",
       "      <td>1100</td>\n",
       "      <td>21000</td>\n",
       "      <td>1354</td>\n",
       "      <td>25607</td>\n",
       "      <td>800.0</td>\n",
       "      <td>3350.0</td>\n",
       "      <td>66322.13</td>\n",
       "      <td>3506.86</td>\n",
       "    </tr>\n",
       "    <tr>\n",
       "      <th>9</th>\n",
       "      <td>1800</td>\n",
       "      <td>22800</td>\n",
       "      <td>1701</td>\n",
       "      <td>27308</td>\n",
       "      <td>0.0</td>\n",
       "      <td>3350.0</td>\n",
       "      <td>70727.72</td>\n",
       "      <td>4405.59</td>\n",
       "    </tr>\n",
       "    <tr>\n",
       "      <th>10</th>\n",
       "      <td>1900</td>\n",
       "      <td>24700</td>\n",
       "      <td>-488</td>\n",
       "      <td>26820</td>\n",
       "      <td>0.0</td>\n",
       "      <td>3350.0</td>\n",
       "      <td>69463.80</td>\n",
       "      <td>-1263.92</td>\n",
       "    </tr>\n",
       "    <tr>\n",
       "      <th>11</th>\n",
       "      <td>1950</td>\n",
       "      <td>26650</td>\n",
       "      <td>815</td>\n",
       "      <td>27635</td>\n",
       "      <td>150.0</td>\n",
       "      <td>3500.0</td>\n",
       "      <td>71574.65</td>\n",
       "      <td>2110.85</td>\n",
       "    </tr>\n",
       "    <tr>\n",
       "      <th>12</th>\n",
       "      <td>1850</td>\n",
       "      <td>28500</td>\n",
       "      <td>-41</td>\n",
       "      <td>27594</td>\n",
       "      <td>100.0</td>\n",
       "      <td>3600.0</td>\n",
       "      <td>71468.46</td>\n",
       "      <td>-106.19</td>\n",
       "    </tr>\n",
       "  </tbody>\n",
       "</table>\n",
       "</div>"
      ],
      "text/plain": [
       "         casulties_week  casulties_cumulative  territory_week_miles  \\\n",
       "ID week                                                               \n",
       "1  8               1100                 21000                  1354   \n",
       "   9               1800                 22800                  1701   \n",
       "   10              1900                 24700                  -488   \n",
       "   11              1950                 26650                   815   \n",
       "   12              1850                 28500                   -41   \n",
       "\n",
       "         territory_cumulative_miles  aid_week  aid_cumulative  \\\n",
       "ID week                                                         \n",
       "1  8                          25607     800.0          3350.0   \n",
       "   9                          27308       0.0          3350.0   \n",
       "   10                         26820       0.0          3350.0   \n",
       "   11                         27635     150.0          3500.0   \n",
       "   12                         27594     100.0          3600.0   \n",
       "\n",
       "         territory_cumulative_km  territory_week_km   \n",
       "ID week                                               \n",
       "1  8                    66322.13             3506.86  \n",
       "   9                    70727.72             4405.59  \n",
       "   10                   69463.80            -1263.92  \n",
       "   11                   71574.65             2110.85  \n",
       "   12                   71468.46             -106.19  "
      ]
     },
     "execution_count": 37,
     "metadata": {},
     "output_type": "execute_result"
    }
   ],
   "source": [
    "us = us.set_index([\"ID\", \"week\"])\n",
    "nato = nato.set_index([\"ID\", \"week\"])\n",
    "df = short_data.set_index([\"ID\", \"week\"])\n",
    "df.head()"
   ]
  },
  {
   "attachments": {},
   "cell_type": "markdown",
   "metadata": {},
   "source": [
    "## Pooled regressions"
   ]
  },
  {
   "attachments": {},
   "cell_type": "markdown",
   "metadata": {},
   "source": [
    "#### 1. As land (territory) is a valuable economic resource we have one of the most important tests with territory and aid. It is a liberated territory from the occupation that depends on the US and NATO military aid to Ukraine."
   ]
  },
  {
   "attachments": {},
   "cell_type": "markdown",
   "metadata": {},
   "source": [
    "#### Before carrying out tests, let’s check out the assumptions:"
   ]
  },
  {
   "attachments": {},
   "cell_type": "markdown",
   "metadata": {},
   "source": [
    "#### For pooling OLS, we have conducted Breusch–Godfrey test (test for autocorrelation) and Breusch–Pagan test (test for homoskedasticity)."
   ]
  },
  {
   "cell_type": "code",
   "execution_count": 38,
   "metadata": {},
   "outputs": [
    {
     "name": "stderr",
     "output_type": "stream",
     "text": [
      "d:\\anaconda3\\lib\\site-packages\\statsmodels\\base\\model.py:127: ValueWarning:\n",
      "\n",
      "unknown kwargs ['entity_effects', 'time_effects']\n",
      "\n"
     ]
    },
    {
     "name": "stdout",
     "output_type": "stream",
     "text": [
      "(58.58948687534292, 1.9425167375235543e-14, 269.93608418486156, 6.818947606140288e-26)\n"
     ]
    }
   ],
   "source": [
    "y = df[\"territory_cumulative_km\"]\n",
    "x = add_constant(df[\"aid_cumulative\"])\n",
    "pool = sm.OLS(y, x, entity_effects=False, time_effects=False).fit()\n",
    "bg_test = acorr_breusch_godfrey(pool, nlags=1)\n",
    "print(bg_test)"
   ]
  },
  {
   "attachments": {},
   "cell_type": "markdown",
   "metadata": {},
   "source": [
    "#### Breusch-Godfrey test shows if we have in our model autocorrelation. The test showed that we reject the null hypothesis(P≤0,05), therefore we accept autocorrelation(in our case p-value = 1.9425167375235543e-14)."
   ]
  },
  {
   "cell_type": "code",
   "execution_count": 39,
   "metadata": {},
   "outputs": [
    {
     "name": "stdout",
     "output_type": "stream",
     "text": [
      "(0.025502762212625596, 0.8731206758271741, 0.024822052840813926, 0.8752522853312223)\n"
     ]
    }
   ],
   "source": [
    "pool =smf.ols('territory_cumulative_km ~ aid_cumulative', data=df).fit()\n",
    "bp_test = het_breuschpagan(pool.resid, pool.model.exog)\n",
    "print(bp_test)"
   ]
  },
  {
   "attachments": {},
   "cell_type": "markdown",
   "metadata": {},
   "source": [
    "#### Breusch-Pagan test shows that we accept the null hypothesis(P>0,05) and hence have homoskedasticity(in our case p-value = 0.8731206758271741)."
   ]
  },
  {
   "attachments": {},
   "cell_type": "markdown",
   "metadata": {},
   "source": [
    "#### To avoid the problem with autocorrelation we decided to use clustered covariance."
   ]
  },
  {
   "cell_type": "code",
   "execution_count": 40,
   "metadata": {},
   "outputs": [
    {
     "name": "stdout",
     "output_type": "stream",
     "text": [
      "                             PanelOLS Estimation Summary                             \n",
      "=====================================================================================\n",
      "Dep. Variable:     territory_cumulative_km   R-squared:                        0.3881\n",
      "Estimator:                        PanelOLS   R-squared (Between):              0.0000\n",
      "No. Observations:                       74   R-squared (Within):               0.4099\n",
      "Date:                     Sat, Aug 19 2023   R-squared (Overall):              0.3881\n",
      "Time:                             15:44:32   Log-likelihood                   -724.76\n",
      "Cov. Estimator:                  Clustered                                           \n",
      "                                             F-statistic:                      45.672\n",
      "Entities:                                2   P-value                           0.0000\n",
      "Avg Obs:                            37.000   Distribution:                    F(1,72)\n",
      "Min Obs:                            37.000                                           \n",
      "Max Obs:                            37.000   F-statistic (robust):             76.416\n",
      "                                             P-value                           0.0000\n",
      "Time periods:                           37   Distribution:                    F(1,72)\n",
      "Avg Obs:                            2.0000                                           \n",
      "Min Obs:                            2.0000                                           \n",
      "Max Obs:                            2.0000                                           \n",
      "                                                                                     \n",
      "                               Parameter Estimates                                \n",
      "==================================================================================\n",
      "                Parameter  Std. Err.     T-stat    P-value    Lower CI    Upper CI\n",
      "----------------------------------------------------------------------------------\n",
      "const           7.667e+04     1013.4     75.658     0.0000   7.465e+04   7.869e+04\n",
      "aid_cumulative    -0.7666     0.0877    -8.7416     0.0000     -0.9414     -0.5917\n",
      "==================================================================================\n",
      "\n",
      "\n"
     ]
    }
   ],
   "source": [
    "y = df[\"territory_cumulative_km\"]\n",
    "x = add_constant(df[\"aid_cumulative\"])\n",
    "pool = PanelOLS(y, x, entity_effects=False, time_effects=False)\n",
    "print(pool.fit(cov_type = \"clustered\").summary)"
   ]
  },
  {
   "attachments": {},
   "cell_type": "markdown",
   "metadata": {},
   "source": [
    "#### The coefficient has a negative value (inverse relationship) and it can be interpreted as for each one million American dollars, Ukraine gains back 766 square meters (coefficient), and from the p-value from T-statistic and F- statistics we reject the null hypothesis, and hence there is a relationship between the whole aid and the liberated territory. From R- squared we can notice 39 percent which is the independent variable (the whole aid) explaining the dependent variable (liberated territory)."
   ]
  },
  {
   "attachments": {},
   "cell_type": "markdown",
   "metadata": {},
   "source": [
    "#### 2. The second test we have done was liberated territory from the occupation that depends only on NATO military aid to Ukraine."
   ]
  },
  {
   "cell_type": "code",
   "execution_count": 41,
   "metadata": {},
   "outputs": [
    {
     "name": "stdout",
     "output_type": "stream",
     "text": [
      "                             PanelOLS Estimation Summary                             \n",
      "=====================================================================================\n",
      "Dep. Variable:     territory_cumulative_km   R-squared:                        0.3282\n",
      "Estimator:                        PanelOLS   R-squared (Between):              0.0000\n",
      "No. Observations:                       37   R-squared (Within):               0.3282\n",
      "Date:                     Sat, Aug 19 2023   R-squared (Overall):              0.3282\n",
      "Time:                             15:44:32   Log-likelihood                   -364.11\n",
      "Cov. Estimator:                  Clustered                                           \n",
      "                                             F-statistic:                      17.099\n",
      "Entities:                                1   P-value                           0.0002\n",
      "Avg Obs:                            37.000   Distribution:                    F(1,35)\n",
      "Min Obs:                            37.000                                           \n",
      "Max Obs:                            37.000   F-statistic (robust):             12.966\n",
      "                                             P-value                           0.0010\n",
      "Time periods:                           37   Distribution:                    F(1,35)\n",
      "Avg Obs:                            1.0000                                           \n",
      "Min Obs:                            1.0000                                           \n",
      "Max Obs:                            1.0000                                           \n",
      "                                                                                     \n",
      "                               Parameter Estimates                                \n",
      "==================================================================================\n",
      "                Parameter  Std. Err.     T-stat    P-value    Lower CI    Upper CI\n",
      "----------------------------------------------------------------------------------\n",
      "const           7.949e+04     3105.1     25.600     0.0000   7.319e+04    8.58e+04\n",
      "aid_cumulative    -1.1830     0.3285    -3.6009     0.0010     -1.8499     -0.5160\n",
      "==================================================================================\n",
      "\n",
      "\n"
     ]
    }
   ],
   "source": [
    "y = nato[\"territory_cumulative_km\"]\n",
    "x = add_constant(nato[\"aid_cumulative\"])\n",
    "pool = PanelOLS(y, x, entity_effects=False, time_effects=False)\n",
    "print(pool.fit(cov_type = \"clustered\").summary)"
   ]
  },
  {
   "attachments": {},
   "cell_type": "markdown",
   "metadata": {},
   "source": [
    "#### We can notice one particularly important and very crucial detail in our model. The coefficient is smaller(-1.1830 in contrast to the previous test coefficient -0.7666 where we tested NATO and the US aid together), but how is it possible to have a smaller value just with NATO aid?\n",
    "#### The answer is quite simple. NATO sent less aid but more dangerous military aid which helps to take back Ukrainian territory. At the same time, the US sent much more and we will test it in the next regression model. The coefficient means that with 1 million dollars from NATO Ukraine takes back more than 1 square kilometer. The statistical result from the test: T-statistics and F-statistics show that there is a relationship between these two variables, standard error is small in comparison to the coefficient. A bit worse result is R-squared which is 33 percent.\n",
    "#### One remarkable notice is that it is fine to have not so big, R-squared because the liberated territory doesn’t depend on only military aid. But in our theoretical model, we did not include more variables. It is a matter of data that is problematic to find right now."
   ]
  },
  {
   "attachments": {},
   "cell_type": "markdown",
   "metadata": {},
   "source": [
    "#### 3. The third test we have done was liberated territory from the occupation that depends only on US military aid to Ukraine."
   ]
  },
  {
   "cell_type": "code",
   "execution_count": 42,
   "metadata": {},
   "outputs": [
    {
     "name": "stdout",
     "output_type": "stream",
     "text": [
      "                             PanelOLS Estimation Summary                             \n",
      "=====================================================================================\n",
      "Dep. Variable:     territory_cumulative_km   R-squared:                        0.5340\n",
      "Estimator:                        PanelOLS   R-squared (Between):              0.0000\n",
      "No. Observations:                       37   R-squared (Within):               0.5340\n",
      "Date:                     Sat, Aug 19 2023   R-squared (Overall):              0.5340\n",
      "Time:                             15:44:32   Log-likelihood                   -357.34\n",
      "Cov. Estimator:                  Clustered                                           \n",
      "                                             F-statistic:                      40.108\n",
      "Entities:                                1   P-value                           0.0000\n",
      "Avg Obs:                            37.000   Distribution:                    F(1,35)\n",
      "Min Obs:                            37.000                                           \n",
      "Max Obs:                            37.000   F-statistic (robust):             51.816\n",
      "                                             P-value                           0.0000\n",
      "Time periods:                           37   Distribution:                    F(1,35)\n",
      "Avg Obs:                            1.0000                                           \n",
      "Min Obs:                            1.0000                                           \n",
      "Max Obs:                            1.0000                                           \n",
      "                                                                                     \n",
      "                               Parameter Estimates                                \n",
      "==================================================================================\n",
      "                Parameter  Std. Err.     T-stat    P-value    Lower CI    Upper CI\n",
      "----------------------------------------------------------------------------------\n",
      "const           7.705e+04     1341.9     57.418     0.0000   7.433e+04   7.977e+04\n",
      "aid_cumulative    -0.7263     0.1009    -7.1984     0.0000     -0.9312     -0.5215\n",
      "==================================================================================\n",
      "\n",
      "\n"
     ]
    }
   ],
   "source": [
    "y = us[\"territory_cumulative_km\"]\n",
    "x = add_constant(us[\"aid_cumulative\"])\n",
    "pool = PanelOLS(y, x, entity_effects=False, time_effects=False)\n",
    "print(pool.fit(cov_type = \"clustered\").summary)"
   ]
  },
  {
   "attachments": {},
   "cell_type": "markdown",
   "metadata": {},
   "source": [
    "#### In this model, we have proved our theory which we got in the previous test. The coefficient of the US influences so much coefficient of the US and NATO. Because the coefficient from both is -0.766 and from the US is -0.7263.\n",
    "#### There is a relationship between the regressor variable and dependent variable, a pretty small standard error. In this case, the R-squared is much better- 53 % is explained by the independent variable.\n",
    "#### As a conclusion, the US sent much more than NATO but it does not help much to liberate the territory in contrast to NATO aid and NATO sent much less but it was more helpful.\n"
   ]
  },
  {
   "attachments": {},
   "cell_type": "markdown",
   "metadata": {},
   "source": [
    "#### 4. Russian soldiers’ casualties on Ukrainian-occupied territory. Because territory cannot be occupied without soldiers."
   ]
  },
  {
   "cell_type": "code",
   "execution_count": 43,
   "metadata": {},
   "outputs": [
    {
     "name": "stdout",
     "output_type": "stream",
     "text": [
      "                           PanelOLS Estimation Summary                            \n",
      "==================================================================================\n",
      "Dep. Variable:     casulties_cumulative   R-squared:                        0.7375\n",
      "Estimator:                     PanelOLS   R-squared (Between):              0.0000\n",
      "No. Observations:                    74   R-squared (Within):               0.7790\n",
      "Date:                  Sat, Aug 19 2023   R-squared (Overall):              0.7375\n",
      "Time:                          15:44:32   Log-likelihood                   -801.83\n",
      "Cov. Estimator:              Unadjusted                                           \n",
      "                                          F-statistic:                      202.31\n",
      "Entities:                             2   P-value                           0.0000\n",
      "Avg Obs:                         37.000   Distribution:                    F(1,72)\n",
      "Min Obs:                         37.000                                           \n",
      "Max Obs:                         37.000   F-statistic (robust):             202.31\n",
      "                                          P-value                           0.0000\n",
      "Time periods:                        37   Distribution:                    F(1,72)\n",
      "Avg Obs:                         2.0000                                           \n",
      "Min Obs:                         2.0000                                           \n",
      "Max Obs:                         2.0000                                           \n",
      "                                                                                  \n",
      "                               Parameter Estimates                                \n",
      "==================================================================================\n",
      "                Parameter  Std. Err.     T-stat    P-value    Lower CI    Upper CI\n",
      "----------------------------------------------------------------------------------\n",
      "const              8665.5     3471.9     2.4959     0.0149      1744.5   1.559e+04\n",
      "aid_cumulative     4.5712     0.3214     14.224     0.0000      3.9306      5.2119\n",
      "==================================================================================\n",
      "\n",
      "\n"
     ]
    }
   ],
   "source": [
    "y = df[\"casulties_cumulative\"]\n",
    "x = add_constant(df[\"aid_cumulative\"])\n",
    "pool = PanelOLS(y, x, entity_effects=False, time_effects=False)\n",
    "print(pool.fit().summary)"
   ]
  },
  {
   "attachments": {},
   "cell_type": "markdown",
   "metadata": {},
   "source": [
    "#### In this model, we have a positive coefficient (positive distribution), which means that for every 1 million US and NATO aid there are 4 Russian casualties. There is a relationship between independent and dependent variables. Seventy-four percent is explained by regressors and the small standard error which is good."
   ]
  },
  {
   "attachments": {},
   "cell_type": "markdown",
   "metadata": {},
   "source": [
    "# Fixed effects"
   ]
  },
  {
   "cell_type": "code",
   "execution_count": 44,
   "metadata": {},
   "outputs": [
    {
     "name": "stdout",
     "output_type": "stream",
     "text": [
      "                             PanelOLS Estimation Summary                             \n",
      "=====================================================================================\n",
      "Dep. Variable:     territory_cumulative_km   R-squared:                        0.4112\n",
      "Estimator:                        PanelOLS   R-squared (Between):              0.0000\n",
      "No. Observations:                       74   R-squared (Within):               0.4112\n",
      "Date:                     Sat, Aug 19 2023   R-squared (Overall):              0.3868\n",
      "Time:                             15:44:32   Log-likelihood                   -723.34\n",
      "Cov. Estimator:                  Clustered                                           \n",
      "                                             F-statistic:                      49.594\n",
      "Entities:                                2   P-value                           0.0000\n",
      "Avg Obs:                            37.000   Distribution:                    F(1,71)\n",
      "Min Obs:                            37.000                                           \n",
      "Max Obs:                            37.000   F-statistic (robust):             65.558\n",
      "                                             P-value                           0.0000\n",
      "Time periods:                           37   Distribution:                    F(1,71)\n",
      "Avg Obs:                            2.0000                                           \n",
      "Min Obs:                            2.0000                                           \n",
      "Max Obs:                            2.0000                                           \n",
      "                                                                                     \n",
      "                               Parameter Estimates                                \n",
      "==================================================================================\n",
      "                Parameter  Std. Err.     T-stat    P-value    Lower CI    Upper CI\n",
      "----------------------------------------------------------------------------------\n",
      "const           7.712e+04     1140.9     67.591     0.0000   7.484e+04   7.939e+04\n",
      "aid_cumulative    -0.8122     0.1003    -8.0968     0.0000     -1.0122     -0.6122\n",
      "==================================================================================\n",
      "\n",
      "F-test for Poolability: 2.7882\n",
      "P-value: 0.0994\n",
      "Distribution: F(1,71)\n",
      "\n",
      "Included effects: Entity\n"
     ]
    }
   ],
   "source": [
    "y = df[\"territory_cumulative_km\"]\n",
    "x = add_constant(df[\"aid_cumulative\"])\n",
    "within = PanelOLS(y, x, entity_effects=True, time_effects=False).fit(cov_type = \"clustered\")\n",
    "print(within.summary)"
   ]
  },
  {
   "attachments": {},
   "cell_type": "markdown",
   "metadata": {},
   "source": [
    "#### To get fixed effects we change entity_effects=True. It is noticeable that there is no significant difference between pooled model and the fixed effects model. In the case of fixed effects, we still reject the null hypothesis and there is a relationship between independent and dependent variables. Coefficients became better and the explanation of the model increased to 41 percent by 2 percent in contrast to the pooling model. \n",
    "#### By F test we compare pooled OLS and fixed effects. In our case, we do not reject the null hypothesis because P > 0,05 so pooled LS is an efficient and consistent estimator. But there is some evidence of individual effects having an impact on the dependent variable."
   ]
  },
  {
   "attachments": {},
   "cell_type": "markdown",
   "metadata": {},
   "source": [
    "# Random effects"
   ]
  },
  {
   "cell_type": "code",
   "execution_count": 45,
   "metadata": {},
   "outputs": [],
   "source": [
    "#y = df['territory_cumulative_km']\n",
    "#x = add_constant(df[\"aid_cumulative\"])\n",
    "#rand = RandomEffects(y, x)\n",
    "#randf = rand.fit(cov_type='clustered')\n",
    "#print(randf.summary)"
   ]
  },
  {
   "attachments": {},
   "cell_type": "markdown",
   "metadata": {},
   "source": [
    "#### If we include an intercept we get an error “ZeroDivisionError: float division by zero”. This error may occur if there are not enough groups or time periods in the data, causing the model to not be identified. If the number of groups or time periods is very small, this causes the error. In this case, we need to consider a different model."
   ]
  },
  {
   "attachments": {},
   "cell_type": "markdown",
   "metadata": {},
   "source": [
    "#### To sum up, we should use pooled OLS here. Thus, there are no significant differences between the objects of the sample(heterogeneity)."
   ]
  },
  {
   "attachments": {},
   "cell_type": "markdown",
   "metadata": {},
   "source": [
    "### As a conclusion, we estimated how the US and nine significant countries of NATO help Ukraine with military aid and how Ukraine liberates its territories with this aid. This concept was built on two different dependent variables (territory, casualties). And all the models tested the most important dependent variable such as a territory. The results were quite unexpected because aid from the US and NATO differ. The US gives more in numbers, but it does not help much to liberate territory in comparison to NATO aid.\n",
    "### There is no heterogeneity in data and pooled regression is consistent and efficient in this case. But Fixed effects and Random effects were tested as well. Unfortunately, we did not find a strong significant correlation to assume about the prediction about the ending of the war. It should be included many more different variables such as economical aid, humanitarian aid, voluntary aid… There might be different measurements for further analysis as well."
   ]
  }
 ],
 "metadata": {
  "kernelspec": {
   "display_name": "base",
   "language": "python",
   "name": "python3"
  },
  "language_info": {
   "codemirror_mode": {
    "name": "ipython",
    "version": 3
   },
   "file_extension": ".py",
   "mimetype": "text/x-python",
   "name": "python",
   "nbconvert_exporter": "python",
   "pygments_lexer": "ipython3",
   "version": "3.9.12"
  },
  "orig_nbformat": 4
 },
 "nbformat": 4,
 "nbformat_minor": 2
}
